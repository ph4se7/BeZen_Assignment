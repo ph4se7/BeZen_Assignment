{
 "cells": [
  {
   "cell_type": "markdown",
   "id": "61c29e4b",
   "metadata": {},
   "source": [
    "Importing Pandas Library."
   ]
  },
  {
   "cell_type": "code",
   "execution_count": 48,
   "id": "79de79a1",
   "metadata": {},
   "outputs": [],
   "source": [
    "import pandas as pd"
   ]
  },
  {
   "cell_type": "markdown",
   "id": "c7b3d351",
   "metadata": {},
   "source": [
    "Reading the csv data."
   ]
  },
  {
   "cell_type": "code",
   "execution_count": 2,
   "id": "b1854057",
   "metadata": {},
   "outputs": [],
   "source": [
    "df = pd.read_csv(\"2022_02_08-02_30_31_AM.csv\")"
   ]
  },
  {
   "cell_type": "code",
   "execution_count": 3,
   "id": "020c93d8",
   "metadata": {
    "scrolled": true
   },
   "outputs": [
    {
     "data": {
      "text/html": [
       "<div>\n",
       "<style scoped>\n",
       "    .dataframe tbody tr th:only-of-type {\n",
       "        vertical-align: middle;\n",
       "    }\n",
       "\n",
       "    .dataframe tbody tr th {\n",
       "        vertical-align: top;\n",
       "    }\n",
       "\n",
       "    .dataframe thead th {\n",
       "        text-align: right;\n",
       "    }\n",
       "</style>\n",
       "<table border=\"1\" class=\"dataframe\">\n",
       "  <thead>\n",
       "    <tr style=\"text-align: right;\">\n",
       "      <th></th>\n",
       "      <th>uuid</th>\n",
       "      <th>price_string</th>\n",
       "      <th>price_string_unf</th>\n",
       "      <th>product_type</th>\n",
       "      <th>level_1</th>\n",
       "      <th>category</th>\n",
       "    </tr>\n",
       "  </thead>\n",
       "  <tbody>\n",
       "    <tr>\n",
       "      <th>0</th>\n",
       "      <td>638744a4-b0ae-4166-8cb6-5c063c862036</td>\n",
       "      <td>NaN</td>\n",
       "      <td>NaN</td>\n",
       "      <td>TGFwdG9wIENvdmVycy9CYWdz</td>\n",
       "      <td>TGFwdG9wIENhc2U</td>\n",
       "      <td>RWxlY3Ryb25pY3M</td>\n",
       "    </tr>\n",
       "    <tr>\n",
       "      <th>1</th>\n",
       "      <td>ab313969-02cc-48b2-9daf-0054efb70b92</td>\n",
       "      <td>NaN</td>\n",
       "      <td>NaN</td>\n",
       "      <td>QmFraW5nIEN1cHMgYW5kIE1hdHM</td>\n",
       "      <td>QmFraW5nIE1hdHMgLyBCYWtpbmcgZGlzaA</td>\n",
       "      <td>a2l0Y2hpbmcgYW5kIGRpbmluZw</td>\n",
       "    </tr>\n",
       "    <tr>\n",
       "      <th>2</th>\n",
       "      <td>acbd66ff-79f8-467a-91f9-108a45af5626</td>\n",
       "      <td>$19.95</td>\n",
       "      <td>NaN</td>\n",
       "      <td>R3VtbWllcyB2aXRhbWlucyBhbmQgbWluZXJhbHMgZm9yIG...</td>\n",
       "      <td>SW1tdW5pdHkgZ3VtbWllcw</td>\n",
       "      <td>SGVhbHRo</td>\n",
       "    </tr>\n",
       "    <tr>\n",
       "      <th>3</th>\n",
       "      <td>963915d6-b2e3-4098-b242-9410593cf205</td>\n",
       "      <td>$92.00</td>\n",
       "      <td>NaN</td>\n",
       "      <td>U2VydW1z</td>\n",
       "      <td>RmFjZSBTZXJ1bQ</td>\n",
       "      <td>YmVhdXR5IGFuZCBwZXJzb25hbCBjYXJl</td>\n",
       "    </tr>\n",
       "    <tr>\n",
       "      <th>4</th>\n",
       "      <td>b5b68f3c-b1e0-40e5-8ee5-e2f7236c1daf</td>\n",
       "      <td>11.50</td>\n",
       "      <td>NaN</td>\n",
       "      <td>RWF0aW5nIFV0ZW5zaWxzL0N1dGxlcnk</td>\n",
       "      <td>Q2hvcHN0aWNrcw</td>\n",
       "      <td>a2l0Y2hpbmcgYW5kIGRpbmluZw</td>\n",
       "    </tr>\n",
       "    <tr>\n",
       "      <th>...</th>\n",
       "      <td>...</td>\n",
       "      <td>...</td>\n",
       "      <td>...</td>\n",
       "      <td>...</td>\n",
       "      <td>...</td>\n",
       "      <td>...</td>\n",
       "    </tr>\n",
       "    <tr>\n",
       "      <th>13729995</th>\n",
       "      <td>2a13338e-9268-4f7b-9e7c-b8c41c72971b</td>\n",
       "      <td>NaN</td>\n",
       "      <td>NaN</td>\n",
       "      <td>RHJlc3Nlcw</td>\n",
       "      <td>TWF4aSBkcmVzcw</td>\n",
       "      <td>Q2xvdGhpbmcgYW5kIEFjY2Vzc29yaWVz</td>\n",
       "    </tr>\n",
       "    <tr>\n",
       "      <th>13729996</th>\n",
       "      <td>fcaedae7-dc20-4da1-b4ae-77368c973088</td>\n",
       "      <td>$69.99</td>\n",
       "      <td>NaN</td>\n",
       "      <td>Um9vbSBkZWNvcg</td>\n",
       "      <td>UGxhbnRlcnMvVmFzZXM</td>\n",
       "      <td>SG91c2Vob2xkIGFuZCBDbGVhbmluZw</td>\n",
       "    </tr>\n",
       "    <tr>\n",
       "      <th>13729997</th>\n",
       "      <td>679f073a-862a-4e43-b5ce-41e45afd3bfa</td>\n",
       "      <td>NaN</td>\n",
       "      <td>NaN</td>\n",
       "      <td>UGV0IEZvb2Q</td>\n",
       "      <td>RHJ5IERvZyBGb29k</td>\n",
       "      <td>cGV0IHN1cHBsaWVz</td>\n",
       "    </tr>\n",
       "    <tr>\n",
       "      <th>13729998</th>\n",
       "      <td>25677eee-c26b-4abf-bd10-ca77a800ba26</td>\n",
       "      <td>NaN</td>\n",
       "      <td>NaN</td>\n",
       "      <td>U2F1Y2U</td>\n",
       "      <td>QkJRIFNhdWNl</td>\n",
       "      <td>Z3JvY2VyaWVz</td>\n",
       "    </tr>\n",
       "    <tr>\n",
       "      <th>13729999</th>\n",
       "      <td>0f4550de-1f33-48b5-a5ef-fc5e39df208e</td>\n",
       "      <td>$55.00</td>\n",
       "      <td>NaN</td>\n",
       "      <td>TG9hZmVycy8gT3hmb3Jkcw</td>\n",
       "      <td>d29tZW5zIE94Zm9yZHMgYW5kIExvYWZlcnM</td>\n",
       "      <td>Q2xvdGhpbmcgYW5kIEFjY2Vzc29yaWVz</td>\n",
       "    </tr>\n",
       "  </tbody>\n",
       "</table>\n",
       "<p>13730000 rows × 6 columns</p>\n",
       "</div>"
      ],
      "text/plain": [
       "                                          uuid price_string price_string_unf  \\\n",
       "0         638744a4-b0ae-4166-8cb6-5c063c862036          NaN              NaN   \n",
       "1         ab313969-02cc-48b2-9daf-0054efb70b92          NaN              NaN   \n",
       "2         acbd66ff-79f8-467a-91f9-108a45af5626       $19.95              NaN   \n",
       "3         963915d6-b2e3-4098-b242-9410593cf205       $92.00              NaN   \n",
       "4         b5b68f3c-b1e0-40e5-8ee5-e2f7236c1daf        11.50              NaN   \n",
       "...                                        ...          ...              ...   \n",
       "13729995  2a13338e-9268-4f7b-9e7c-b8c41c72971b          NaN              NaN   \n",
       "13729996  fcaedae7-dc20-4da1-b4ae-77368c973088       $69.99              NaN   \n",
       "13729997  679f073a-862a-4e43-b5ce-41e45afd3bfa          NaN              NaN   \n",
       "13729998  25677eee-c26b-4abf-bd10-ca77a800ba26          NaN              NaN   \n",
       "13729999  0f4550de-1f33-48b5-a5ef-fc5e39df208e       $55.00              NaN   \n",
       "\n",
       "                                               product_type  \\\n",
       "0                                  TGFwdG9wIENvdmVycy9CYWdz   \n",
       "1                               QmFraW5nIEN1cHMgYW5kIE1hdHM   \n",
       "2         R3VtbWllcyB2aXRhbWlucyBhbmQgbWluZXJhbHMgZm9yIG...   \n",
       "3                                                  U2VydW1z   \n",
       "4                           RWF0aW5nIFV0ZW5zaWxzL0N1dGxlcnk   \n",
       "...                                                     ...   \n",
       "13729995                                         RHJlc3Nlcw   \n",
       "13729996                                     Um9vbSBkZWNvcg   \n",
       "13729997                                        UGV0IEZvb2Q   \n",
       "13729998                                            U2F1Y2U   \n",
       "13729999                             TG9hZmVycy8gT3hmb3Jkcw   \n",
       "\n",
       "                                      level_1  \\\n",
       "0                             TGFwdG9wIENhc2U   \n",
       "1          QmFraW5nIE1hdHMgLyBCYWtpbmcgZGlzaA   \n",
       "2                      SW1tdW5pdHkgZ3VtbWllcw   \n",
       "3                              RmFjZSBTZXJ1bQ   \n",
       "4                              Q2hvcHN0aWNrcw   \n",
       "...                                       ...   \n",
       "13729995                       TWF4aSBkcmVzcw   \n",
       "13729996                  UGxhbnRlcnMvVmFzZXM   \n",
       "13729997                     RHJ5IERvZyBGb29k   \n",
       "13729998                         QkJRIFNhdWNl   \n",
       "13729999  d29tZW5zIE94Zm9yZHMgYW5kIExvYWZlcnM   \n",
       "\n",
       "                                  category  \n",
       "0                          RWxlY3Ryb25pY3M  \n",
       "1               a2l0Y2hpbmcgYW5kIGRpbmluZw  \n",
       "2                                 SGVhbHRo  \n",
       "3         YmVhdXR5IGFuZCBwZXJzb25hbCBjYXJl  \n",
       "4               a2l0Y2hpbmcgYW5kIGRpbmluZw  \n",
       "...                                    ...  \n",
       "13729995  Q2xvdGhpbmcgYW5kIEFjY2Vzc29yaWVz  \n",
       "13729996    SG91c2Vob2xkIGFuZCBDbGVhbmluZw  \n",
       "13729997                  cGV0IHN1cHBsaWVz  \n",
       "13729998                      Z3JvY2VyaWVz  \n",
       "13729999  Q2xvdGhpbmcgYW5kIEFjY2Vzc29yaWVz  \n",
       "\n",
       "[13730000 rows x 6 columns]"
      ]
     },
     "execution_count": 3,
     "metadata": {},
     "output_type": "execute_result"
    }
   ],
   "source": [
    "df"
   ]
  },
  {
   "cell_type": "code",
   "execution_count": 4,
   "id": "a07e0299",
   "metadata": {},
   "outputs": [
    {
     "name": "stdout",
     "output_type": "stream",
     "text": [
      "<class 'pandas.core.frame.DataFrame'>\n",
      "RangeIndex: 13730000 entries, 0 to 13729999\n",
      "Data columns (total 6 columns):\n",
      " #   Column            Dtype \n",
      "---  ------            ----- \n",
      " 0   uuid              object\n",
      " 1   price_string      object\n",
      " 2   price_string_unf  object\n",
      " 3   product_type      object\n",
      " 4   level_1           object\n",
      " 5   category          object\n",
      "dtypes: object(6)\n",
      "memory usage: 628.5+ MB\n"
     ]
    }
   ],
   "source": [
    "df.info()"
   ]
  },
  {
   "cell_type": "markdown",
   "id": "7bc0ba43",
   "metadata": {},
   "source": [
    "Filling NaN values = 0"
   ]
  },
  {
   "cell_type": "code",
   "execution_count": 5,
   "id": "ee34ba43",
   "metadata": {},
   "outputs": [],
   "source": [
    "df1 = df.fillna(0)"
   ]
  },
  {
   "cell_type": "code",
   "execution_count": 6,
   "id": "dbaeaeb7",
   "metadata": {},
   "outputs": [
    {
     "data": {
      "text/html": [
       "<div>\n",
       "<style scoped>\n",
       "    .dataframe tbody tr th:only-of-type {\n",
       "        vertical-align: middle;\n",
       "    }\n",
       "\n",
       "    .dataframe tbody tr th {\n",
       "        vertical-align: top;\n",
       "    }\n",
       "\n",
       "    .dataframe thead th {\n",
       "        text-align: right;\n",
       "    }\n",
       "</style>\n",
       "<table border=\"1\" class=\"dataframe\">\n",
       "  <thead>\n",
       "    <tr style=\"text-align: right;\">\n",
       "      <th></th>\n",
       "      <th>uuid</th>\n",
       "      <th>price_string</th>\n",
       "      <th>price_string_unf</th>\n",
       "      <th>product_type</th>\n",
       "      <th>level_1</th>\n",
       "      <th>category</th>\n",
       "    </tr>\n",
       "  </thead>\n",
       "  <tbody>\n",
       "    <tr>\n",
       "      <th>0</th>\n",
       "      <td>638744a4-b0ae-4166-8cb6-5c063c862036</td>\n",
       "      <td>0</td>\n",
       "      <td>0</td>\n",
       "      <td>TGFwdG9wIENvdmVycy9CYWdz</td>\n",
       "      <td>TGFwdG9wIENhc2U</td>\n",
       "      <td>RWxlY3Ryb25pY3M</td>\n",
       "    </tr>\n",
       "    <tr>\n",
       "      <th>1</th>\n",
       "      <td>ab313969-02cc-48b2-9daf-0054efb70b92</td>\n",
       "      <td>0</td>\n",
       "      <td>0</td>\n",
       "      <td>QmFraW5nIEN1cHMgYW5kIE1hdHM</td>\n",
       "      <td>QmFraW5nIE1hdHMgLyBCYWtpbmcgZGlzaA</td>\n",
       "      <td>a2l0Y2hpbmcgYW5kIGRpbmluZw</td>\n",
       "    </tr>\n",
       "    <tr>\n",
       "      <th>2</th>\n",
       "      <td>acbd66ff-79f8-467a-91f9-108a45af5626</td>\n",
       "      <td>$19.95</td>\n",
       "      <td>0</td>\n",
       "      <td>R3VtbWllcyB2aXRhbWlucyBhbmQgbWluZXJhbHMgZm9yIG...</td>\n",
       "      <td>SW1tdW5pdHkgZ3VtbWllcw</td>\n",
       "      <td>SGVhbHRo</td>\n",
       "    </tr>\n",
       "    <tr>\n",
       "      <th>3</th>\n",
       "      <td>963915d6-b2e3-4098-b242-9410593cf205</td>\n",
       "      <td>$92.00</td>\n",
       "      <td>0</td>\n",
       "      <td>U2VydW1z</td>\n",
       "      <td>RmFjZSBTZXJ1bQ</td>\n",
       "      <td>YmVhdXR5IGFuZCBwZXJzb25hbCBjYXJl</td>\n",
       "    </tr>\n",
       "    <tr>\n",
       "      <th>4</th>\n",
       "      <td>b5b68f3c-b1e0-40e5-8ee5-e2f7236c1daf</td>\n",
       "      <td>11.50</td>\n",
       "      <td>0</td>\n",
       "      <td>RWF0aW5nIFV0ZW5zaWxzL0N1dGxlcnk</td>\n",
       "      <td>Q2hvcHN0aWNrcw</td>\n",
       "      <td>a2l0Y2hpbmcgYW5kIGRpbmluZw</td>\n",
       "    </tr>\n",
       "    <tr>\n",
       "      <th>...</th>\n",
       "      <td>...</td>\n",
       "      <td>...</td>\n",
       "      <td>...</td>\n",
       "      <td>...</td>\n",
       "      <td>...</td>\n",
       "      <td>...</td>\n",
       "    </tr>\n",
       "    <tr>\n",
       "      <th>13729995</th>\n",
       "      <td>2a13338e-9268-4f7b-9e7c-b8c41c72971b</td>\n",
       "      <td>0</td>\n",
       "      <td>0</td>\n",
       "      <td>RHJlc3Nlcw</td>\n",
       "      <td>TWF4aSBkcmVzcw</td>\n",
       "      <td>Q2xvdGhpbmcgYW5kIEFjY2Vzc29yaWVz</td>\n",
       "    </tr>\n",
       "    <tr>\n",
       "      <th>13729996</th>\n",
       "      <td>fcaedae7-dc20-4da1-b4ae-77368c973088</td>\n",
       "      <td>$69.99</td>\n",
       "      <td>0</td>\n",
       "      <td>Um9vbSBkZWNvcg</td>\n",
       "      <td>UGxhbnRlcnMvVmFzZXM</td>\n",
       "      <td>SG91c2Vob2xkIGFuZCBDbGVhbmluZw</td>\n",
       "    </tr>\n",
       "    <tr>\n",
       "      <th>13729997</th>\n",
       "      <td>679f073a-862a-4e43-b5ce-41e45afd3bfa</td>\n",
       "      <td>0</td>\n",
       "      <td>0</td>\n",
       "      <td>UGV0IEZvb2Q</td>\n",
       "      <td>RHJ5IERvZyBGb29k</td>\n",
       "      <td>cGV0IHN1cHBsaWVz</td>\n",
       "    </tr>\n",
       "    <tr>\n",
       "      <th>13729998</th>\n",
       "      <td>25677eee-c26b-4abf-bd10-ca77a800ba26</td>\n",
       "      <td>0</td>\n",
       "      <td>0</td>\n",
       "      <td>U2F1Y2U</td>\n",
       "      <td>QkJRIFNhdWNl</td>\n",
       "      <td>Z3JvY2VyaWVz</td>\n",
       "    </tr>\n",
       "    <tr>\n",
       "      <th>13729999</th>\n",
       "      <td>0f4550de-1f33-48b5-a5ef-fc5e39df208e</td>\n",
       "      <td>$55.00</td>\n",
       "      <td>0</td>\n",
       "      <td>TG9hZmVycy8gT3hmb3Jkcw</td>\n",
       "      <td>d29tZW5zIE94Zm9yZHMgYW5kIExvYWZlcnM</td>\n",
       "      <td>Q2xvdGhpbmcgYW5kIEFjY2Vzc29yaWVz</td>\n",
       "    </tr>\n",
       "  </tbody>\n",
       "</table>\n",
       "<p>13730000 rows × 6 columns</p>\n",
       "</div>"
      ],
      "text/plain": [
       "                                          uuid price_string price_string_unf  \\\n",
       "0         638744a4-b0ae-4166-8cb6-5c063c862036            0                0   \n",
       "1         ab313969-02cc-48b2-9daf-0054efb70b92            0                0   \n",
       "2         acbd66ff-79f8-467a-91f9-108a45af5626       $19.95                0   \n",
       "3         963915d6-b2e3-4098-b242-9410593cf205       $92.00                0   \n",
       "4         b5b68f3c-b1e0-40e5-8ee5-e2f7236c1daf        11.50                0   \n",
       "...                                        ...          ...              ...   \n",
       "13729995  2a13338e-9268-4f7b-9e7c-b8c41c72971b            0                0   \n",
       "13729996  fcaedae7-dc20-4da1-b4ae-77368c973088       $69.99                0   \n",
       "13729997  679f073a-862a-4e43-b5ce-41e45afd3bfa            0                0   \n",
       "13729998  25677eee-c26b-4abf-bd10-ca77a800ba26            0                0   \n",
       "13729999  0f4550de-1f33-48b5-a5ef-fc5e39df208e       $55.00                0   \n",
       "\n",
       "                                               product_type  \\\n",
       "0                                  TGFwdG9wIENvdmVycy9CYWdz   \n",
       "1                               QmFraW5nIEN1cHMgYW5kIE1hdHM   \n",
       "2         R3VtbWllcyB2aXRhbWlucyBhbmQgbWluZXJhbHMgZm9yIG...   \n",
       "3                                                  U2VydW1z   \n",
       "4                           RWF0aW5nIFV0ZW5zaWxzL0N1dGxlcnk   \n",
       "...                                                     ...   \n",
       "13729995                                         RHJlc3Nlcw   \n",
       "13729996                                     Um9vbSBkZWNvcg   \n",
       "13729997                                        UGV0IEZvb2Q   \n",
       "13729998                                            U2F1Y2U   \n",
       "13729999                             TG9hZmVycy8gT3hmb3Jkcw   \n",
       "\n",
       "                                      level_1  \\\n",
       "0                             TGFwdG9wIENhc2U   \n",
       "1          QmFraW5nIE1hdHMgLyBCYWtpbmcgZGlzaA   \n",
       "2                      SW1tdW5pdHkgZ3VtbWllcw   \n",
       "3                              RmFjZSBTZXJ1bQ   \n",
       "4                              Q2hvcHN0aWNrcw   \n",
       "...                                       ...   \n",
       "13729995                       TWF4aSBkcmVzcw   \n",
       "13729996                  UGxhbnRlcnMvVmFzZXM   \n",
       "13729997                     RHJ5IERvZyBGb29k   \n",
       "13729998                         QkJRIFNhdWNl   \n",
       "13729999  d29tZW5zIE94Zm9yZHMgYW5kIExvYWZlcnM   \n",
       "\n",
       "                                  category  \n",
       "0                          RWxlY3Ryb25pY3M  \n",
       "1               a2l0Y2hpbmcgYW5kIGRpbmluZw  \n",
       "2                                 SGVhbHRo  \n",
       "3         YmVhdXR5IGFuZCBwZXJzb25hbCBjYXJl  \n",
       "4               a2l0Y2hpbmcgYW5kIGRpbmluZw  \n",
       "...                                    ...  \n",
       "13729995  Q2xvdGhpbmcgYW5kIEFjY2Vzc29yaWVz  \n",
       "13729996    SG91c2Vob2xkIGFuZCBDbGVhbmluZw  \n",
       "13729997                  cGV0IHN1cHBsaWVz  \n",
       "13729998                      Z3JvY2VyaWVz  \n",
       "13729999  Q2xvdGhpbmcgYW5kIEFjY2Vzc29yaWVz  \n",
       "\n",
       "[13730000 rows x 6 columns]"
      ]
     },
     "execution_count": 6,
     "metadata": {},
     "output_type": "execute_result"
    }
   ],
   "source": [
    "df1"
   ]
  },
  {
   "cell_type": "markdown",
   "id": "9feb72e0",
   "metadata": {},
   "source": [
    "Here we replace the '$' sign by empty space( Removing everything except numeric values)."
   ]
  },
  {
   "cell_type": "code",
   "execution_count": 7,
   "id": "955c40ad",
   "metadata": {},
   "outputs": [],
   "source": [
    "df2 = pd.to_numeric(df1.price_string.replace('[^0-9\\.-]', '', regex=True))"
   ]
  },
  {
   "cell_type": "code",
   "execution_count": 8,
   "id": "3cec6355",
   "metadata": {
    "scrolled": true
   },
   "outputs": [
    {
     "data": {
      "text/plain": [
       "0            0.00\n",
       "1            0.00\n",
       "2           19.95\n",
       "3           92.00\n",
       "4           11.50\n",
       "            ...  \n",
       "13729995     0.00\n",
       "13729996    69.99\n",
       "13729997     0.00\n",
       "13729998     0.00\n",
       "13729999    55.00\n",
       "Name: price_string, Length: 13730000, dtype: float64"
      ]
     },
     "execution_count": 8,
     "metadata": {},
     "output_type": "execute_result"
    }
   ],
   "source": [
    "df2"
   ]
  },
  {
   "cell_type": "code",
   "execution_count": 9,
   "id": "829cfa98",
   "metadata": {},
   "outputs": [
    {
     "data": {
      "text/html": [
       "<div>\n",
       "<style scoped>\n",
       "    .dataframe tbody tr th:only-of-type {\n",
       "        vertical-align: middle;\n",
       "    }\n",
       "\n",
       "    .dataframe tbody tr th {\n",
       "        vertical-align: top;\n",
       "    }\n",
       "\n",
       "    .dataframe thead th {\n",
       "        text-align: right;\n",
       "    }\n",
       "</style>\n",
       "<table border=\"1\" class=\"dataframe\">\n",
       "  <thead>\n",
       "    <tr style=\"text-align: right;\">\n",
       "      <th></th>\n",
       "      <th>uuid</th>\n",
       "      <th>price_string</th>\n",
       "      <th>price_string_unf</th>\n",
       "      <th>product_type</th>\n",
       "      <th>level_1</th>\n",
       "      <th>category</th>\n",
       "    </tr>\n",
       "  </thead>\n",
       "  <tbody>\n",
       "    <tr>\n",
       "      <th>0</th>\n",
       "      <td>638744a4-b0ae-4166-8cb6-5c063c862036</td>\n",
       "      <td>0</td>\n",
       "      <td>0</td>\n",
       "      <td>TGFwdG9wIENvdmVycy9CYWdz</td>\n",
       "      <td>TGFwdG9wIENhc2U</td>\n",
       "      <td>RWxlY3Ryb25pY3M</td>\n",
       "    </tr>\n",
       "    <tr>\n",
       "      <th>1</th>\n",
       "      <td>ab313969-02cc-48b2-9daf-0054efb70b92</td>\n",
       "      <td>0</td>\n",
       "      <td>0</td>\n",
       "      <td>QmFraW5nIEN1cHMgYW5kIE1hdHM</td>\n",
       "      <td>QmFraW5nIE1hdHMgLyBCYWtpbmcgZGlzaA</td>\n",
       "      <td>a2l0Y2hpbmcgYW5kIGRpbmluZw</td>\n",
       "    </tr>\n",
       "    <tr>\n",
       "      <th>2</th>\n",
       "      <td>acbd66ff-79f8-467a-91f9-108a45af5626</td>\n",
       "      <td>$19.95</td>\n",
       "      <td>0</td>\n",
       "      <td>R3VtbWllcyB2aXRhbWlucyBhbmQgbWluZXJhbHMgZm9yIG...</td>\n",
       "      <td>SW1tdW5pdHkgZ3VtbWllcw</td>\n",
       "      <td>SGVhbHRo</td>\n",
       "    </tr>\n",
       "    <tr>\n",
       "      <th>3</th>\n",
       "      <td>963915d6-b2e3-4098-b242-9410593cf205</td>\n",
       "      <td>$92.00</td>\n",
       "      <td>0</td>\n",
       "      <td>U2VydW1z</td>\n",
       "      <td>RmFjZSBTZXJ1bQ</td>\n",
       "      <td>YmVhdXR5IGFuZCBwZXJzb25hbCBjYXJl</td>\n",
       "    </tr>\n",
       "    <tr>\n",
       "      <th>4</th>\n",
       "      <td>b5b68f3c-b1e0-40e5-8ee5-e2f7236c1daf</td>\n",
       "      <td>11.50</td>\n",
       "      <td>0</td>\n",
       "      <td>RWF0aW5nIFV0ZW5zaWxzL0N1dGxlcnk</td>\n",
       "      <td>Q2hvcHN0aWNrcw</td>\n",
       "      <td>a2l0Y2hpbmcgYW5kIGRpbmluZw</td>\n",
       "    </tr>\n",
       "    <tr>\n",
       "      <th>...</th>\n",
       "      <td>...</td>\n",
       "      <td>...</td>\n",
       "      <td>...</td>\n",
       "      <td>...</td>\n",
       "      <td>...</td>\n",
       "      <td>...</td>\n",
       "    </tr>\n",
       "    <tr>\n",
       "      <th>13729995</th>\n",
       "      <td>2a13338e-9268-4f7b-9e7c-b8c41c72971b</td>\n",
       "      <td>0</td>\n",
       "      <td>0</td>\n",
       "      <td>RHJlc3Nlcw</td>\n",
       "      <td>TWF4aSBkcmVzcw</td>\n",
       "      <td>Q2xvdGhpbmcgYW5kIEFjY2Vzc29yaWVz</td>\n",
       "    </tr>\n",
       "    <tr>\n",
       "      <th>13729996</th>\n",
       "      <td>fcaedae7-dc20-4da1-b4ae-77368c973088</td>\n",
       "      <td>$69.99</td>\n",
       "      <td>0</td>\n",
       "      <td>Um9vbSBkZWNvcg</td>\n",
       "      <td>UGxhbnRlcnMvVmFzZXM</td>\n",
       "      <td>SG91c2Vob2xkIGFuZCBDbGVhbmluZw</td>\n",
       "    </tr>\n",
       "    <tr>\n",
       "      <th>13729997</th>\n",
       "      <td>679f073a-862a-4e43-b5ce-41e45afd3bfa</td>\n",
       "      <td>0</td>\n",
       "      <td>0</td>\n",
       "      <td>UGV0IEZvb2Q</td>\n",
       "      <td>RHJ5IERvZyBGb29k</td>\n",
       "      <td>cGV0IHN1cHBsaWVz</td>\n",
       "    </tr>\n",
       "    <tr>\n",
       "      <th>13729998</th>\n",
       "      <td>25677eee-c26b-4abf-bd10-ca77a800ba26</td>\n",
       "      <td>0</td>\n",
       "      <td>0</td>\n",
       "      <td>U2F1Y2U</td>\n",
       "      <td>QkJRIFNhdWNl</td>\n",
       "      <td>Z3JvY2VyaWVz</td>\n",
       "    </tr>\n",
       "    <tr>\n",
       "      <th>13729999</th>\n",
       "      <td>0f4550de-1f33-48b5-a5ef-fc5e39df208e</td>\n",
       "      <td>$55.00</td>\n",
       "      <td>0</td>\n",
       "      <td>TG9hZmVycy8gT3hmb3Jkcw</td>\n",
       "      <td>d29tZW5zIE94Zm9yZHMgYW5kIExvYWZlcnM</td>\n",
       "      <td>Q2xvdGhpbmcgYW5kIEFjY2Vzc29yaWVz</td>\n",
       "    </tr>\n",
       "  </tbody>\n",
       "</table>\n",
       "<p>13730000 rows × 6 columns</p>\n",
       "</div>"
      ],
      "text/plain": [
       "                                          uuid price_string price_string_unf  \\\n",
       "0         638744a4-b0ae-4166-8cb6-5c063c862036            0                0   \n",
       "1         ab313969-02cc-48b2-9daf-0054efb70b92            0                0   \n",
       "2         acbd66ff-79f8-467a-91f9-108a45af5626       $19.95                0   \n",
       "3         963915d6-b2e3-4098-b242-9410593cf205       $92.00                0   \n",
       "4         b5b68f3c-b1e0-40e5-8ee5-e2f7236c1daf        11.50                0   \n",
       "...                                        ...          ...              ...   \n",
       "13729995  2a13338e-9268-4f7b-9e7c-b8c41c72971b            0                0   \n",
       "13729996  fcaedae7-dc20-4da1-b4ae-77368c973088       $69.99                0   \n",
       "13729997  679f073a-862a-4e43-b5ce-41e45afd3bfa            0                0   \n",
       "13729998  25677eee-c26b-4abf-bd10-ca77a800ba26            0                0   \n",
       "13729999  0f4550de-1f33-48b5-a5ef-fc5e39df208e       $55.00                0   \n",
       "\n",
       "                                               product_type  \\\n",
       "0                                  TGFwdG9wIENvdmVycy9CYWdz   \n",
       "1                               QmFraW5nIEN1cHMgYW5kIE1hdHM   \n",
       "2         R3VtbWllcyB2aXRhbWlucyBhbmQgbWluZXJhbHMgZm9yIG...   \n",
       "3                                                  U2VydW1z   \n",
       "4                           RWF0aW5nIFV0ZW5zaWxzL0N1dGxlcnk   \n",
       "...                                                     ...   \n",
       "13729995                                         RHJlc3Nlcw   \n",
       "13729996                                     Um9vbSBkZWNvcg   \n",
       "13729997                                        UGV0IEZvb2Q   \n",
       "13729998                                            U2F1Y2U   \n",
       "13729999                             TG9hZmVycy8gT3hmb3Jkcw   \n",
       "\n",
       "                                      level_1  \\\n",
       "0                             TGFwdG9wIENhc2U   \n",
       "1          QmFraW5nIE1hdHMgLyBCYWtpbmcgZGlzaA   \n",
       "2                      SW1tdW5pdHkgZ3VtbWllcw   \n",
       "3                              RmFjZSBTZXJ1bQ   \n",
       "4                              Q2hvcHN0aWNrcw   \n",
       "...                                       ...   \n",
       "13729995                       TWF4aSBkcmVzcw   \n",
       "13729996                  UGxhbnRlcnMvVmFzZXM   \n",
       "13729997                     RHJ5IERvZyBGb29k   \n",
       "13729998                         QkJRIFNhdWNl   \n",
       "13729999  d29tZW5zIE94Zm9yZHMgYW5kIExvYWZlcnM   \n",
       "\n",
       "                                  category  \n",
       "0                          RWxlY3Ryb25pY3M  \n",
       "1               a2l0Y2hpbmcgYW5kIGRpbmluZw  \n",
       "2                                 SGVhbHRo  \n",
       "3         YmVhdXR5IGFuZCBwZXJzb25hbCBjYXJl  \n",
       "4               a2l0Y2hpbmcgYW5kIGRpbmluZw  \n",
       "...                                    ...  \n",
       "13729995  Q2xvdGhpbmcgYW5kIEFjY2Vzc29yaWVz  \n",
       "13729996    SG91c2Vob2xkIGFuZCBDbGVhbmluZw  \n",
       "13729997                  cGV0IHN1cHBsaWVz  \n",
       "13729998                      Z3JvY2VyaWVz  \n",
       "13729999  Q2xvdGhpbmcgYW5kIEFjY2Vzc29yaWVz  \n",
       "\n",
       "[13730000 rows x 6 columns]"
      ]
     },
     "execution_count": 9,
     "metadata": {},
     "output_type": "execute_result"
    }
   ],
   "source": [
    "df1"
   ]
  },
  {
   "cell_type": "code",
   "execution_count": 10,
   "id": "0e64164b",
   "metadata": {},
   "outputs": [],
   "source": [
    "average = df2.mean()"
   ]
  },
  {
   "cell_type": "code",
   "execution_count": 11,
   "id": "62df9cab",
   "metadata": {},
   "outputs": [
    {
     "name": "stdout",
     "output_type": "stream",
     "text": [
      "Average price of products is:\n",
      " 28.103401310997775\n"
     ]
    }
   ],
   "source": [
    "print(\"Average price of products is:\\n\", average)"
   ]
  },
  {
   "cell_type": "code",
   "execution_count": 12,
   "id": "4ce23fcd",
   "metadata": {},
   "outputs": [],
   "source": [
    "products_arr = df1[\"uuid\"].unique()"
   ]
  },
  {
   "cell_type": "code",
   "execution_count": 13,
   "id": "45cdfcb3",
   "metadata": {},
   "outputs": [
    {
     "name": "stdout",
     "output_type": "stream",
     "text": [
      "['638744a4-b0ae-4166-8cb6-5c063c862036'\n",
      " 'ab313969-02cc-48b2-9daf-0054efb70b92'\n",
      " 'acbd66ff-79f8-467a-91f9-108a45af5626' ...\n",
      " '62785956-705e-47db-bd0e-764575333724'\n",
      " 'b4799645-56ab-4b83-8666-1b79cbf6da17'\n",
      " '21e8ead0-6f8a-40aa-9ad9-469abd8dad3d']\n"
     ]
    }
   ],
   "source": [
    "print(products_arr)"
   ]
  },
  {
   "cell_type": "code",
   "execution_count": 51,
   "id": "3bc56149",
   "metadata": {},
   "outputs": [
    {
     "name": "stdout",
     "output_type": "stream",
     "text": [
      "Number of unique products is:\n",
      " 1373\n"
     ]
    }
   ],
   "source": [
    "print(\"Number of unique products is:\\n\", len(products_arr))"
   ]
  },
  {
   "cell_type": "code",
   "execution_count": 15,
   "id": "c825e565",
   "metadata": {},
   "outputs": [],
   "source": [
    "categories_arr = df1[\"category\"].unique()"
   ]
  },
  {
   "cell_type": "code",
   "execution_count": 16,
   "id": "fd07f4d3",
   "metadata": {},
   "outputs": [
    {
     "name": "stdout",
     "output_type": "stream",
     "text": [
      "['RWxlY3Ryb25pY3M' 'a2l0Y2hpbmcgYW5kIGRpbmluZw' 'SGVhbHRo'\n",
      " 'YmVhdXR5IGFuZCBwZXJzb25hbCBjYXJl' 'Z3JvY2VyaWVz'\n",
      " 'SG91c2Vob2xkIGFuZCBDbGVhbmluZw' 'Q2xvdGhpbmcgYW5kIEFjY2Vzc29yaWVz'\n",
      " 'VG95cyBhbmQgR2FtZXM' 'QXJ0IHN1cHBsaWVz' 'cGV0IHN1cHBsaWVz'\n",
      " 'VG9vbHMgYW5kIGhvbWUgaW1wcm92ZW1lbnQ' 'QmFieWNhcmU'\n",
      " 'b2ZmaWNlIHByb2R1Y3Rz' 0]\n"
     ]
    }
   ],
   "source": [
    "print(categories_arr)"
   ]
  },
  {
   "cell_type": "code",
   "execution_count": 52,
   "id": "b976de92",
   "metadata": {},
   "outputs": [
    {
     "name": "stdout",
     "output_type": "stream",
     "text": [
      "Number of unique categories is:\n",
      " 14\n"
     ]
    }
   ],
   "source": [
    "print(\"Number of unique categories is:\\n\",len(categories_arr))"
   ]
  },
  {
   "cell_type": "code",
   "execution_count": 18,
   "id": "4a254e17",
   "metadata": {},
   "outputs": [],
   "source": [
    "product_type_arr = df1[\"product_type\"].unique()"
   ]
  },
  {
   "cell_type": "code",
   "execution_count": 19,
   "id": "e2da622f",
   "metadata": {},
   "outputs": [
    {
     "name": "stdout",
     "output_type": "stream",
     "text": [
      "['TGFwdG9wIENvdmVycy9CYWdz' 'QmFraW5nIEN1cHMgYW5kIE1hdHM'\n",
      " 'R3VtbWllcyB2aXRhbWlucyBhbmQgbWluZXJhbHMgZm9yIGtpZHM' 'U2VydW1z'\n",
      " 'RWF0aW5nIFV0ZW5zaWxzL0N1dGxlcnk' 'TmF0dXJhbCBTd2VldGVuZXJzLyBTdWdhcg'\n",
      " 'TW9wcyBhbmQgYnJvb21z' 'V29tZW5zIFBhbnRz' 'Um9sbGluZyBQaW4'\n",
      " 'Q2FyZHN0b2Nrcw' 'Rm9vZCBTdG9yYWdl' 'U2NydWJzIGFuZCBjbGVhbmluZyBjbG90aHM'\n",
      " 'U2hvcnRz' 'UGxhdGVzL1V0ZW5zaWxzL0N1dGxlcnk'\n",
      " 'UGx1cyBzaXplIHdlYXIgZHJlc3M' 'TnV0cyAtIENhc2hld3M'\n",
      " 'TWFrZXVwIGFwcGxpY2F0b3I' 'TWF0ZXJuaXR5IFBhZHM'\n",
      " 'RWR1Y2F0aW9uYWwgQmxvY2tzL1RveXM'\n",
      " 'UGxhbnQgYmFzZWQgUHJvdGVpbiBTdXBwbGVtZW50cw' 'Q2FuZGxlcy9GcmFnbmFuY2Vz'\n",
      " 'QmVkc2hlZXRz' 'bWVucyBCb2R5IFNvYXAvIEJvZHl3YXNo' 'TGVnb3M'\n",
      " 'U3VyZiBzdWl0cw' 'UmljZQ' 'RG9sbCBob3VzZSAvIEZpZ3VyZXM' 'UGV0IGNvbGxhcnM'\n",
      " 'TmF0dXJhbCBQaWdtZW50cyA' 'UG9wY29ybg' 'U29sYXItUG93ZXJlZCBGbGFzaGxpZ2h0'\n",
      " 'U2F1Y2U' 'VGhlcm1vc3RhdHM' 'QnJ1c2hlcw'\n",
      " 'UHJvZHVjZSBCYWdzIGFuZCBHcm9jZXJ5IFRvdGUgQmFncw' 'U2xlZXAgc2hvcnRz'\n",
      " 'RXllIG1hc2s' 'V29tZW5zIHN3aW13ZWFy' 'V29tZW5zIEphY2tldHM'\n",
      " 'U3F1ZWdlZSBhbmQgZHVzdGVy' 'UGlsbG93Y2FzZXM' 'UGFudHkgTGluZXJz'\n",
      " 'R3Jhbm9sYSBCYXJz' 'QmFieSBXaXBlcw' 'RmxvdXI' 'SnVtcHN1aXRzL092ZXJhbGw'\n",
      " 'Q29va2luZyBPaWw' 'QmxhbmtldHM' 'Q2hlZWsgbWFrZSB1cA' 'U2xlZXAgRHJlc3M'\n",
      " 'TGV0dGVyIFZpdGFtaW5z' 'Q29uZGl0aW9uZXIgSGFpcg'\n",
      " 'U3Ryb2xsZXJzL0NhciBzZWF0cy8gQWNjZXNzb3JpZXM' 'TnV0cyAtIEFsbW9uZHM'\n",
      " 'Qm9keSBTY3J1Yg' 'UHJlZ25hbmN5IHZpdGFtaW5z' 'U2Fsc2E' 'UGlsbG93cw'\n",
      " 'cGV0IEJsYW5rZXQ' 'TWVucyBUc2hpcnRz' 'T21lZ2EzIGNhcHN1bGVz'\n",
      " 'UGV0IHBvb3AgYmFncyB3aXRoIGRpc3BlbnNlcnM' 'V29tZW5zIEplYW5z'\n",
      " 'TWVucyBKZWFucw' 'QWlycG9kIENhc2Vz' 'bWVucyBXYWxsZXQ'\n",
      " 'TWluZXJhbCBTdXBwbGVtZW50cw' 'SGFuZCBTb2Fw' 'U3lydXBz' 'Q2FuZHk'\n",
      " 'Q2hpYSBTZWVkcw' 'U3Vuc2NyZWVu' 'Q29mZmVlIEJlYW5z'\n",
      " 'V29tZW5zIHdvcmt3ZWFyLyBvZmZpY2Ugd2Vhcg' 'd29tZW5zIHN3ZWF0ZXJz' 'U2FsdA'\n",
      " 'UGxheWluZyBDYXJkcw' 'QWNjZXNzb3JpZXM' 'UGV0IEZvb2Q'\n",
      " 'V29ya291dCBMZWdnaW5ncw' 'd29tZW5zIE91dGVyd2Vhcg' 'TnVyc2luZyBQYWRz'\n",
      " 'TG9hZmVycy8gT3hmb3Jkcw' 'U2luZ2xlIFVzZSBEaXNwb3NhYmxlcw'\n",
      " 'TWVucyBQYW50cw' 'VG9vdGhicnVzaA' 'TWF0ZXJuaXR5IFBhbnRz'\n",
      " 'U3R1ZmZlZCBBbmltYWxzIFRveXM' 'T3JnYW5pYyBCYWJ5IEZvb2Q'\n",
      " 'QmF0aHJvb20gU2luayBGYXVjZXRz' 'TWF0cmVzc2Vz' 'SW50aW1hdGUgd2Vhcg'\n",
      " 'TWVucyB3b3Jrd2Vhci8gb2ZmaWNlIHdlYXI' 'RG91Z2ggSmFy' 'TGlnaHQgQnVsYnM'\n",
      " 'QmFieSBNYXR0cmVzc2Vz' 'RXllIGxpbmVy'\n",
      " 'UG93ZXIgQmFua3MgLSBTb2xhciBQb3dlcmVk' 'TW9wIFBhZHM' 'Tm90ZXBhZHM'\n",
      " 'UGx1cyBzaXplIHdlYXI' 'UGV0IFRyZWF0cw' 'V29tZW5zIFNoaXJ0cw' 'VGVh'\n",
      " 'SG91c2UgUGFpbnQ' 'TGVhcm5pbmcgVG95cw' 'RmxheCBTZWVkcw'\n",
      " 'TGF1bmRyeSBEZXRlcmdlbnRz' 'TnV0IEJ1dHRlcnM' 'RGVodW1pZGlmaWVycw'\n",
      " 'Q29va2luZyBVdGVuc2lscw' 'U3BpY2Vz' 'Q29va2llcw'\n",
      " 'U3RyYXdzL0VhdGluZyBVdGVuc2lscy9DdXRsZXJ5' 'TWVucyBTaGlydHM'\n",
      " 'V29tZW5zIFRzaGlydHM' 'SGFpciBTZXJ1bQ'\n",
      " 'UGV0IGRvZyBJbW11bml0eSBzdXBwbGVtZW50cw' 'Qm9keXdhc2g'\n",
      " 'VGFibGV0IENvdmVycw' 'VGFua3M' 'RmFjaWFsIENsZWFuc2Vycw'\n",
      " 'V2ludGVyIEFjY2Vzc29yaWVz' 'UEVUIFNUQUlOIGFuZCBPRE9SIFJFTU9WRVIgLSBQT1VS'\n",
      " 'U25lYWtlcnMgc2hvZXM' 'QmxvY2sgVG95cw' 'U3BvcnRzIEJyYQ' 'QmFja3BhY2s'\n",
      " 'U2NyZWVuIENvdmVycw' 'RHJlc3Nlcw' 'UGhvbmUgQ292ZXJz'\n",
      " 'V29tZW5zIFBhbnRzL0plYW5z' 'Qm9keSBMb3Rpb25zLyBNb2lzdHVyaXplcnM'\n",
      " 'Q2x1dGNo' 'TWF0ZXJuaXR5IFRzaGlydA' 'TWF0ZXJuaXR5IERyZXNz'\n",
      " 'cGV0IFN0YWluIGFuZCBvZG9yIGVsaW1pbmF0b3I' 'TWVucyBTaG9ydHM'\n",
      " 'UEVUIFNUQUlOIFJFTU9WRVIvQ0xFQU5FUlM' 'QmFieSBUb3lz' 'UHVtcGtpbiBTZWVkcw'\n",
      " 'QmFyIFNvYXAvIEJvZHl3YXNo' 'QWxsIFB1cnBvc2UgQ2xlYW5lcnM' 'RmFjZSBNYXNr'\n",
      " 'RXllIE1hc2s' 'Q2hpcHM' 'S2l0Y2hlbiBTaW5rIEZhdWNldHM'\n",
      " 'bWVucyBPdXRlcndlYXI' 'QXJ0IEJydXNoZXM' 'TW9iaWxlcw' 'QmF0aCBTYWx0cw'\n",
      " 'Q2xvdGggRmFjZW1hc2tz' 'U21hcnR3YXRjaCBzdHJhcHM'\n",
      " 'WW9nYSBBY2Nlc3Nvcmllcy8gR2Vhcg' 'TWVucyBKYWNrZXQ'\n",
      " 'U2FuZGFscy9TbGlwIG9ucy8gRmxhdHM' 'U2hvd2VyaGVhZHM' 'TGlwIEJhbG0'\n",
      " 'SW5zdGFudCBOb29kbGVz' 'U2tpcnRz' 'RXllIFNoYWRvdw' 'UG93ZXIgQWRhcHRlcnM'\n",
      " 'R3VtbWllcyB2aXRhbWlucyBhbmQgbWluZXJhbHMgZm9yIGFkdWx0cw' 'Qm9vdHM'\n",
      " 'TXVsdGl2aXRhbWlucw' 'VmVoaWNsZSBUb3lz' 'UGhvbmUgQ2hhcmdlcnM'\n",
      " 'UGV0IFNoYW1wb28vQ29uZGl0aW9uZXI' 'VU5PIHBsYXlpbmcgY2FyZHM'\n",
      " 'Qm90dGxlZCBXYXRlcg' 'V29tZW5zIHB1cnNlL3NhdGNoZWw' 'RmFjZSBPaWxz'\n",
      " 'V2VpZ2h0IFBsYXRlcw' 'SGFybmVzc2Vz' 'UGV0IFByb2Jpb3RpY3M'\n",
      " 'VmVnYW4gU3Vuc2NyZWVu' 'TGVhc2hlcyBwZXRz'\n",
      " 'VG9kZGxlcnMvbmV3Ym9ybiBiYWJpZXM'\n",
      " 'R2FyYmFnZSAvIFRyYXNoYmFncyAvIFdhc3RlIGJhZ3M' 'RmFjZSBtYWtlIHVw'\n",
      " 'QmFieSBEcmVzc2VyIGFuZCBDaGFuZ2luZyBzdGF0aW9u' 'SGVhZHBob25lcw'\n",
      " 'U2xlZXAgVCdz' 'SmV3ZWxlcnkga2l0cy9iZWFkcw' 'RmFjaWFsIFRvbmVycw'\n",
      " 'Qm90dGxlcw' 'U3BlYWtlcnM' 'V29tZW5zIFVuZGVyZ2FybWVudHM' 'QmFraW5n'\n",
      " 'RXllIGJyb3c' 'SGVlbHM' 'UGV0IEZsZWEgYW5kIFRpY2sgY2FyZQ' 'SG9uZXk'\n",
      " 'VGFwZXM' 'WW9nYSBNYXRz' 'Q0FUIExJVFRFUg' 'UGV0IFBvdHR5L1BlZSBwYWRz'\n",
      " 'TWVuc3RydWFsIEN1cC9TYW5pdGFyeSBOYXBraW5zLyBUYW1wb25z'\n",
      " 'U2hhbXBvbyBmb3IgYmFieQ' 'TW9pc3R1cml6ZXJz' 'RGlhcGVycw' 'U3RhdGlvbmVyeQ'\n",
      " 'UGV0IERlbnRhbCBjYXJl' 'U2Npc3NvcnM' 'TnV0cyAtIHBlY2Fucw' 'Q3JlYW1lcnM'\n",
      " 'TGlwc3RpY2svIExpcCBjb2xvcg' 'S2V5Ym9hcmRz' 'VmFjdXVtIENsZWFuZXJz'\n",
      " 'QmFieSBib2R5IHdhc2g' 'RHV2ZXQgY292ZXJz' 'RW52ZWxvcGVz'\n",
      " 'U2FuaXRhcnkgTmFwa2lucy8gVGFtcG9ucw' 'Qm9keSBPaWwvIEVzc2VudGlhbCBPaWw'\n",
      " 'V29tZW5zIFNob3VsZGVyIGJhZw' 'V29tZW5zIENyb3NzYm9keSBTbGluZyBCYWc'\n",
      " 'V29tZW5zIEhhbmRiYWc' 'SGFpciBNYXNrcw'\n",
      " 'RGlzcGVuc2VycyBhbmQgU3ByYXkgYm90dGxlcw' 'VHJhdmVsIEJhZw'\n",
      " 'UmVmcmlnZXJhdG9yIFdhdGVyIEZpbHRlcg' 'U3RhaW4gYW5kIG9kb3IgZWxpbWluYXRvcg'\n",
      " 'UnVncw' 'S2lkcyBDcmVhbXMgYW5kIExvdGlvbnM' 'TWVjaGFuaWNhbCBQZW5jaWxz'\n",
      " 'QnVycCBDbG90aHMvQmlicw' 'V2hleSBQcm90ZWluIFN1cHBsZW1lbnRz'\n",
      " 'T21lZ2Egb2ls' 'UGV0IFdpcGVz' 'QmFieSBGb3JtdWxh' 'Q3JhZnQgcmliYm9ucw'\n",
      " 'cGV0IEJlZC9NYXR0cmVzc2Vz' 'V2FsbCBkZWNvcg' 'UGx1bmdlcg'\n",
      " 'RG91Z2ggSmFyLSBQYWNrIG9mIDY' 'TWF0ZXJuaXR5IFdlYXI' 'VG9pbGV0IHBhcGVy'\n",
      " 'bWVucyBzd2VhdGVycw' 'R2FyYmFnZS8gVHJhc2ggQmFncw'\n",
      " 'Q3JvY2hldC9Lbml0dGluZw' 'UGFwZXIgVG93ZWwgQWx0ZXJuYXRpdmVz'\n",
      " 'RG9nIHRveXMgcGV0' 'TXVsZXMgJiBmbGF0cw' 'RGVudGFsIEZsb3Nz'\n",
      " 'RGVvZG9yYW50cyBmb3Igd29tZW4' 'TW91dGggd2FzaA' 'UGFjaWZpZXJz'\n",
      " 'VG9pbGV0IENsZWFuZXJz' 'V2F0ZXIgRmlsdGVyIFBpdGNoZXJz'\n",
      " 'RHJhd2luZyBib29rcw' 'RG91Z2ggSmFyLSBQYWNrIG9mIDM'\n",
      " 'UGV0IGVhciBjbGVhbmVycw' 'VG90ZSBiYWdz' 'VG9vdGhwYXN0ZQ' 'U3RvcmFnZQ'\n",
      " 'UGlsbG93IGNvdmVycw' 'Q2F0IHRveXMgcGV0' 'RG91Z2ggS2l0L1Byb2plY3Q'\n",
      " 'RXllIGxhc2hlcw' 'Qm9keSBPaWw' 'UGV0IENCRA'\n",
      " 'TmFwa2lucyBhbmQgUGFwZXIgVG93ZWxz' 'd29tZW5zIFdhbGxldA' 'TGlwIEdsb3Nz'\n",
      " 'UHVmZmVkIFNuYWNrcw' 'Um9vbSBkZWNvcg' 'V2F0ZXIgRmlsdGVyIERpc3BlbnNlcg'\n",
      " 'T2F0bWVhbA' 'U2hhbXBvbw' 'TWVucyBVbmRlcndlYXI' 'SGFuZCBTYW5pdGl6ZXJz'\n",
      " 'RGlzaHdhc2hpbmc' 'SW50aW1hdGUgV2lwZXM' 'SG9sZGVycy9TdGFuZHM'\n",
      " 'QmFieSBDcmlicw' 'TnV0cyAtIHdhbG51dHM' 'RmFjZSBNaXN0' 'R3ltIGdlYXI'\n",
      " 'QnJlYXN0IFB1bXBz' 'UGVucw' 'VGFwZQ' 'UGx1cyBzaXplIHdlYXIgc2tpcnQ'\n",
      " 'QmFieSBDcmVhbXMgYW5kIExvdGlvbnM' 'TWVucyBzd2ltd2Vhcg' 'RHVtYmJlbGxz'\n",
      " 'bWVucyBTaGF2aW5nIEtpdA' 'bWVucyBCZWFyZCBDYXJlIEtpdA'\n",
      " 'TGFjdG9zZSBmcmVlIEJhYnkgRm9ybXVsYQ' 'RW5lcmd5IERyaW5rcw'\n",
      " 'UGV0IGRvZy9jYXQgSW1tdW5pdHkgc3VwcGxlbWVudHM'\n",
      " 'UGV0IFdhc3RlIGJhZ3MvUG9vcCBiYWdz' 'ZGVvZG9yYW50cyBmb3IgbWVu'\n",
      " 'R2FyYmFnZSAvIFRyYXNoIGJhZ3MgLyBXYXN0ZSBiYWdz' 'T3JnYW5pemVycy9UcmF5cw'\n",
      " 'U29hcCBTdGFuZA' 'QmFieSBCb3R0bGVz' 'Q29mZmVlIEZpbHRlcnM'\n",
      " 'SGlnaGxpZ2h0ZXJz' 'U3RhcGxlcnM' 'QmxlbmRlcg'\n",
      " 'V29tZW5zIHNob3VsZGVyIHRvdGUgYmFn' 'R2x1ZQ' 'TGFwdG9wcw'\n",
      " 'UGV0IHBvdHR5L1BlZSBwYWRz' 'bGFjdG9zZSBmcmVlIEJhYnkgRm9ybXVsYQ'\n",
      " 'VHJhZGl0aW9uYWwgUGVuY2lscw' 'TGlwIE1hc2s' 'TWF0ZXJuaXR5IFNsZWVwd2Vhcg'\n",
      " 'UmVzaW4ga2l0cw' 'R2lmdCBwYXBlcg'\n",
      " 'UGV0IE9kb3IgRWxpbWluYXRvciBDb25jZW50cmF0ZQ' 'VG9hc3RlcnM'\n",
      " 'QWlyIFB1cmlmaWVycw' 'RmFjZSBTY3J1YnM' 'U2tvcnQ' 'U2hhdmluZyBDcmVhbQ'\n",
      " 'UGV0IERvZyBTdXBwbGVtZW50cw' 'V29tZW4ncyBzd2ltd2Vhcg'\n",
      " 'U3RldGNoYm9va3MsIENhcmRzdG9ja3M'\n",
      " 'U21hcnQgV2F0Y2ggU2NyZWVuIFByb3RlY3Rvcg' 0 'QmFieSBTb2Fw']\n"
     ]
    }
   ],
   "source": [
    "print(product_type_arr)"
   ]
  },
  {
   "cell_type": "code",
   "execution_count": 54,
   "id": "3aeddd1d",
   "metadata": {},
   "outputs": [
    {
     "name": "stdout",
     "output_type": "stream",
     "text": [
      "Number of unique product type is:\n",
      " 322\n"
     ]
    }
   ],
   "source": [
    "print(\"Number of unique product type is:\\n\",len(product_type_arr))"
   ]
  },
  {
   "cell_type": "code",
   "execution_count": 24,
   "id": "23ce24d7",
   "metadata": {},
   "outputs": [],
   "source": [
    "level_1_arr = df1[\"level_1\"].unique()"
   ]
  },
  {
   "cell_type": "code",
   "execution_count": 25,
   "id": "16aba5cc",
   "metadata": {},
   "outputs": [
    {
     "name": "stdout",
     "output_type": "stream",
     "text": [
      "['TGFwdG9wIENhc2U' 'QmFraW5nIE1hdHMgLyBCYWtpbmcgZGlzaA'\n",
      " 'SW1tdW5pdHkgZ3VtbWllcw' 'RmFjZSBTZXJ1bQ' 'Q2hvcHN0aWNrcw'\n",
      " 'TW9uayBGcnVpdA' 'TW9w' 'V29tZW5zIFJlZ3VsYXIvQ2FzdWFsIFBhbnRz'\n",
      " 'V29tZW5zIFRpZ2h0cw' 'UGxheSBEb3VnaCBSb2xsaW5nIFBpbg' 'Q2FyZHM'\n",
      " 'Rm9vZCBDb250YWluZXI' 'U2NydWJz' 'V29tZW5zIFNob3J0cw' 'UGxhdGVz'\n",
      " 'RHJlc3M' 'Q2FzaGV3cw' 'TWFrZXVwIGFwcGxpY2F0b3I' 'UG9zdHBhcnR1bSBQYWRz'\n",
      " 'TnVtYmVyIFRveXM'\n",
      " 'S2V0byBEaWV0IFdlaWdodCBsb3NzIHBsYW50IGJhc2VkIHByb3RlaW4gcG93ZGVy'\n",
      " 'Q2FuZGxlcw' 'UGVyY2FsZSBiZWRzaGVldHM' 'bWVucyBCb2R5d2FzaA'\n",
      " 'TGVnb3MgYW5pbWFscw' 'V29tZW5zIHN1cmYgc3VpdA' 'V2lsZCBSaWNl'\n",
      " 'QWN0aW9uIEZpZ3VyZXM' 'Q2F0IGNvbGxhcnM' 'V2F0ZXJjb2xvcnMgcGFpbnRz'\n",
      " 'UG9wcGVkIFBvcGNvcm4' 0 'QkJRIFNhdWNl' 'VGhlcm1vc3RhdHM' 'RGlzaCBicnVzaA'\n",
      " 'R3JvY2VyeS9TaG9wcGluZyBUb3RlIEJhZ3M' 'U2xlZXAgc2hvcnRz'\n",
      " 'Q2FuZGxlIGhvbGRlcg' 'RXllIE1hc2tzL1BhdGNoZXM' 'U3VyZnN1aXQvV2V0c3VpdA'\n",
      " 'RGVuaW0gSmFja2V0LyBUcnVja2VyIEphY2tldA' 'RHVzdGVy'\n",
      " 'cGVyY2FsZSBwaWxsb3djYXNl' 'UGFudHkgTGluZXJz' 'R3Jhbm9sYSBCYXJz'\n",
      " 'V29tZW5zIFN3ZWF0cGFudHM' 'RG9nIGNvbGxhcnM' 'QmFieSBXaXBlcw'\n",
      " 'QnVja3doZWF0IEZsb3Vy' 'SnVtcHN1aXRzL092ZXJhbGw' 'Q29jb251dCBPaWw'\n",
      " 'VGhyb3cgYmxhbmtldHM' 'RmFjZSBIaWdobGlnaHRlcg' 'U2xlZXAgRHJlc3M'\n",
      " 'Qi1Db21wbGV4' 'Q29uZGl0aW9uZXI' 'Q2FyIHNlYXRz' 'THVuY2ggYm94ZXM'\n",
      " 'QWxtb25kcw' 'Qm9keSBTY3J1Yg' 'UHJlbmF0YWwgdml0YW1pbnM' 'TWlsZCBzYWxzYQ'\n",
      " 'UGlsbG93cw' 'U3Bvb24sIEtuaWZlIGFuZCBGb3Jr' 'ZG9nL2NhdCBCbGFua2V0'\n",
      " 'U2hvcnQgc2xlZXZlIHRlZQ' 'T21lZ2EzIGNhcHN1bGVz'\n",
      " 'UGV0IHBvb3AgYmFncyB3aXRoIGRpc3BlbnNlcnM'\n",
      " 'V29tZW5zIFNraW5ueS9zbGltIEZpdCBqZWFucw'\n",
      " 'TWVucyBTdHJhaWdodCBGaXQgamVhbnM' 'QWlycG9kIENhc2Vz' 'bWVucyBXYWxsZXQ'\n",
      " 'SXJvbiBzdXBwbGVtZW50cw' 'aGFuZCB3YXNoLyBoYW5kIHNvYXA' 'U3lydXBz'\n",
      " 'TG9sbGlwb3Bz' 'V2hvbGUgY2hpYSBzZWVkcw' 'VmVnYW4gU3Vuc2NyZWVu'\n",
      " 'TWVkaXVtIFJvYXN0' 'V29yayBEcmVzcw' 'Q2FyZGlnYW4' 'U2FsdA'\n",
      " 'RGVjayBvZiBDYXJkcw' 'QmFuZGFuYS8gSGVhZGJhbmQ' 'RHJ5IEZvb2Q'\n",
      " 'TWVucyBzdXJmIHN1aXQ' 'TGVnZ2luZ3M' 'UHVmZmVyIFZlc3Q' 'TnVyc2luZyBQYWRz'\n",
      " 'd29tZW5zIE94Zm9yZHMgYW5kIExvYWZlcnM'\n",
      " 'RGlzcG9zYWJsZSBGb3Jrcy9zcG9vbnMva25pdmVz' 'TWVkaXVtIHNhbHNh'\n",
      " 'TWVucyBIaWtpbmcvVHJhaWwgUGFudHM' 'VG9vdGhicnVzaA'\n",
      " 'TWF0ZXJuaXR5IExlZ2dpbmdzL0pvZ2dlcnM'\n",
      " 'U3R1ZmZlZCBlYWdsZS9zdHVmZmVkIGJpcmQgcGFscw'\n",
      " 'UGxhbnQgYmFzZWQgYmFieSBmb3JtdWxh' 'T25lIEhhbmRsZSBTaW5rIEZhdWNldA'\n",
      " 'TWF0cmVzc2Vz' 'TWVucyBTd2VhdHBhbnRz' 'RGlzaCBzY3J1Yg'\n",
      " 'TWF0ZXJuaXR5IFVuZGVyd2Vhcg' 'U2hpcnRz' 'RGFyayBSb2FzdA'\n",
      " 'UGxheWRvdWdoIC8gUGxheWRvaA' 'UGFzdGEgU2F1Y2U' 'Q3VzaGlvbg'\n",
      " 'TEVEIExpZ2h0IEJ1bGJz' 'QmFieSBNYXR0cmVzc2Vz' 'RXllbGluZXI'\n",
      " 'U29sYXIgcG93ZXJlZCBwb3dlciBiYW5rcw' 'TW9wIFBhZHM'\n",
      " 'Tm90ZWJvb2sgLyBOb3RlcGFk' 'SnVtcHN1aXQ' 'UGV0IFRyZWF0cw'\n",
      " 'V29tZW5zIEZsYW5uZWwgc2hpcnQ' 'TWVucyBDYXN1YWwvIFJlZ3VsYXIgUGFudHM'\n",
      " 'TG9vc2UgVGVh' 'SW50ZXJpb3IgUGFpbnQ' 'UHV6emxlcy9KaWdzYXc'\n",
      " 'V2hvbGUgZmxheCBzZWVkcw' 'S2V0Y2h1cA' 'TGF1bmRyeSBwb2Rz'\n",
      " 'Q29jb251dCBGbG91cg' 'UGVhbnV0IEJ1dHRlcg' 'TGF1bmRyeSBwb3dkZXI'\n",
      " 'NTAgUGludHM' 'VG9uZ3M' 'V29tZW5zIFBhcmthcw' 'V3JhcHMgYW5kIENvdmVycw'\n",
      " 'UGVwcGVy' 'R2x1dGVuIGZyZWUgY29va2llcw' 'U3RyYXdz'\n",
      " 'QWxsLXB1cnBvc2Ugc2NydWIgYnJ1c2g' 'R3VtbWllcw'\n",
      " 'TWVucyBMb25nIHNsZWV2ZSBzaGlydA' 'T25lIHBpZWNlIHN3aW1zdWl0'\n",
      " 'R3JhcGhpYyB0ZWU' 'V29tZW5zIEJpa2Ugc2hvcnRz' 'TG9uZyBzbGVldmUgdGVl'\n",
      " 'ZmlmdHkgUGludHM' 'SGFpciBPaWw' 'UGV0IGRvZyBJbW11bml0eSBzdXBwbGVtZW50cw'\n",
      " 'Qm9keXdhc2g' 'aVBhZCBDYXNl' 'UHJvZHVjZSBiYWdz'\n",
      " 'TWVucyBBY3RpdmUgU2hpcnRz' 'TWF0ZXJuaXR5IEJyYWxldHRlLyBCcmE'\n",
      " 'TWljZWxsYXIgRmFjZSBDbGVhbnNlcg' 'QmVhbmll' 'VW5wb3BwZWQgUG9wY29ybg'\n",
      " 'UEVUIFNUQUlOIFJFTU9WRXIgc3ByYXk' 'V29tZW5zIHNuZWFrZXJz'\n",
      " 'QnVpbGRpbmcgQmxvY2tz' 'U3BvcnRzIEJyYQ' 'SG90IFNhdWNl' 'QmFja3BhY2s'\n",
      " 'c2F0ZWVuIHBpbGxvd2Nhc2U' 'U3Ryb2xsZXJz' 'U2NyZWVuIENvdmVycw'\n",
      " 'TWF4aSBkcmVzcw' 'QW5kcm9pZCBQaG9uZSBDYXNl'\n",
      " 'Qm9keSBMb3Rpb25zLyBNb2lzdHVyaXplcnM' 'Q2x1dGNo' 'Rm9ybWFsIFNoaXJ0cw'\n",
      " 'TWF0ZXJuaXR5IFNob3J0IHNsZWV2ZSB0ZWU' 'U2NhcmY'\n",
      " 'TWF0ZXJuaXR5IE1pZGkgZHJlc3M' 'T2xpdmUgT2ls' 'TWVucyBTaG9ydHM'\n",
      " 'UGV0IHN0YWluIENhcnBldCBDbGVhbmVycw' 'RmFicmljIHRveXM'\n",
      " 'UHVtcGtpbiBTZWVkcw' 'U29hcCBCYXI' 'YWxsIHB1cnBvc2UgTGlxdWlkIGNsZWFuZXI'\n",
      " 'RmFjZSBNYXNrcw' 'U29sYXItUG93ZXJlZCBGbGFzaGxpZ2h0' 'RmFicmljIGR5ZQ'\n",
      " 'Q2hpcHM' 'T25lIEhhbmRsZSBGYXVjZXQ' 'VmVzdA' 'RG9nIFRyZWF0cw'\n",
      " 'UGFpbnQgQnJ1c2hlcw' 'TW9iaWxlIFBob25l' 'QmF0aCBTYWx0cw'\n",
      " 'Q2xvdGggRmFjZSBtYXNrcw' 'U21hcnR3YXRjaCBzdHJhcHM' 'eW9nYSBzdHJhcHM'\n",
      " 'Q2FzdWFsIGRyZXNz' 'Q2FzdWFsIEphY2tldA' 'd29tZW5zIFNhbmRhbHMvU2xpcCBvbnM'\n",
      " 'SGFuZGhlbGQgU2hvd2VyaGVhZHM' 'TGlwIEJhbG0' 'QXZvY2FkbyBPaWw'\n",
      " 'TWF0ZXJuaXR5IExvbmcgc2xlZXZlIHRlZQ' 'TWF0ZXJuaXR5IExvdW5nZSBQYW50cw'\n",
      " 'U3R1ZmZlZCBlYWdsZS9zdHVmZmVkIEJpcmRz' 'UGFja2V0IEluc3RhbnQgTm9vZGxlcw'\n",
      " 'U3BvcnQgUGxhbnQgYmFzZWQgUHJvdGVpbiBQb3dkZXJz' 'S25lZSBMZW5ndGggU2tpcnQ'\n",
      " 'Vml0YW1pbiBENQ' 'RXllIFNoYWRvdw' 'VmVnYW4gQ29va2llcw'\n",
      " 'UG93ZXIgQWRhcHRlcnM' 'UHVmZmVyIEphY2tldA' 'UGFudA' 'U2NydWIgYnJ1c2g'\n",
      " 'QWxtb25kIEZsb3Vy' 'U2xlZXAgZ3VtbWllcw' 'Rm9ybWFsIFBhbnRz'\n",
      " 'UGFydHkgZHJlc3M' 'd29tZW5zIGJvb3Rz' 'TXVsdGl2aXRhbWlucyBmb3IgbWVu'\n",
      " 'U3dlYXRzaGlydA' 'TmFjaG9zLyBUb3J0aWxsYSBjaGlwcw' 'VG95IFRydWNrcw'\n",
      " 'RnJ1aXQgU25hY2tz' 'TWVucyBGbGFubmVsIHNoaXJ0' 'UGhvbmUgQ2hhcmdlcnM'\n",
      " 'eW9nYSBCbG9ja3M' 'UGxhbnQgYmFzZWQgcHJvdGVpbiBCYXJz' 'VGVhYmFncw'\n",
      " 'R3JvdW5kIGZsYXggc2VlZHM' 'RG9nIFNoYW1wb28'\n",
      " 'Rm9hbSBGYWNlIENsZWFuc2VyLyBGYWNlIHdhc2g'\n",
      " 'U3R1ZmZlZCBlYWdsZS9zdHVmZmVkIGJpcmQg' 'VU5PIGNhcmRz'\n",
      " 'TGVnbyBhY3Rpb24gZmlndXJlcw' 'Q3JlYW0gQ2xlYW5zZXI' 'V29ya291dCBUYW5rcw'\n",
      " 'U3BhcmtsaW5n' 'UHVyc2Uvc2F0Y2hlbA' 'Q29hdC9KYWNrZXQ'\n",
      " 'V29tZW5zIExlZ2dpbmdz' 'SG9vZGll' 'RmFjZSBPaWxz'\n",
      " 'Q2FzdCBJcm9uIFdlaWdodCBQbGF0ZXM' 'TWF0ZXJuaXR5IFRhbmsgVG9w'\n",
      " 'Q2F0IGhhcm5lc3Nlcw' 'TWluaSBkcmVzcw' 'UGV0IFByb2Jpb3RpY3M' 'TWVucw'\n",
      " 'U3Vuc2NyZWVu' 'RG9nIGxlYXNoZXM' 'U3BhdHVsYXM' 'RHJlc3NlcyBmb3IgYmFieQ'\n",
      " 'R2FyYmFnZSAvIFRyYXNoYmFncw' 'RmFjZSBQcmltZXI'\n",
      " 'QmFieSBEcmVzc2VyIGFuZCBDaGFuZ2luZyBzdGF0aW9u' 'SGVhZHBob25lcw'\n",
      " 'U2xlZXAgVHNoaXJ0cw' 'SmV3ZWxlcnkga2l0cy9iZWFkcw'\n",
      " 'VG93ZWwgUG9uY2hvLyBDaGFuZ2luZyByb2Jl' 'RmFjZSBUb25lcnM'\n",
      " 'U3R1ZmZlZCBCZWFycw' 'Qm90dGxlcw' 'U3BlYWtlcnM' 'VGhvbmcgdW5kZXJ3ZWFy'\n",
      " 'R2xvdmVzL01pdHRlbnM' 'UXVpbHRz' 'UGlnbWVudGVkIEJsdXNo' 'UHVsbG92ZXI'\n",
      " 'QmFieSBEcmVzc2VyIA' 'V29tZW5zIFN0cmFpZ2h0IGZpdCBKZWFucw' 'T2F0IEZsb3Vy'\n",
      " 'QmxhbmtldA' 'SG90IHNhbHNhIA' 'VmFuaWxsYSBFeHRyYWN0'\n",
      " 'QmlraW5pIEJvdHRvbXMgc3dpbXN1aXQ' 'RG9sbCBob3VzZQ' 'QnJvdyBnZWw'\n",
      " 'd29tZW5zIGhlZWxz' 'R3JlZXRpbmcgQ2FyZCA' 'Qm9keXN1aXRzIGZvciBiYWJ5'\n",
      " 'RG9nL0NhdCBGbGVhIGFuZCBUaWNrIGNhcmU' 'VmVnYW4gSG9uZXk' 'Q29uY2VhbGVy'\n",
      " 'RWNvIGZyaWVuZGx5IHlvZ2EgbWF0cw' 'Q0FUIExJVFRFUg'\n",
      " 'UGV0IFBvdHR5L1BlZSBwYWRz' 'TWVuc3RydWFsIEN1cA' 'Q3JheW9ucw'\n",
      " 'Q2xlYW5pbmcgY2xvdGg' 'WmluYyBzdXBwbGVtZW50cw' 'QnJvd24gSmFzbWluZSBSaWNl'\n",
      " 'bGluZW4gcGlsbG93Y2FzZQ' 'UGxhbnQgYmFzZWQgUHJvdGVpbiBQb3dkZXJz'\n",
      " 'Qm90dGxlZCBXYXRlcg' 'QmFieSBTaGFtcG9vcw' 'RmFjZSBNb2lzdHVyaXplcnM'\n",
      " 'T3Zlcm5pZ2h0IGRpYXBlcnM' 'TXVsdGl2aXRhbWluIGd1bW1pZXM' 'UGVuY2lscw'\n",
      " 'RG9nIERlbnRhbCBDaGV3cw' 'TWl4aW5nIHNwb29ucyAoc2V0cyk'\n",
      " 'U3R1ZmZlZCBBcXVhdGljIEFuaW1hbHM' 'V29tZW5zIFB1bGxvdmVy' 'U2Npc3NvcnM'\n",
      " 'UGVjYW5z' 'Q29jb251dCBtaWxr' 'TGlwIENvbG9yL0xpcHN0aWNr' 'S2V5Ym9hcmRz'\n",
      " 'RXh0ZXJpb3IgUGFpbnQ' 'VmFjdXVtIENsZWFuZXJz' 'QmFieSBib2R5IHdhc2g'\n",
      " 'c2F0ZWVuIGR1dmV0IGNvdmVy' 'U2hpcnQgZHJlc3M' 'RW52ZWxvcGVz'\n",
      " 'Vml0YW1pbiBEMw' 'V29tZW5zIEhpa2luZy8gVHJhaWwgUGFudHM'\n",
      " 'QnJvd24gQmFzbWF0aSBSaWNl' 'UmFzaGd1YXJk' 'Q2xvdGggUGFkcw' 'U3dlYXRlcg'\n",
      " 'Qm9keSBPaWwvIEVzc2VudGlhbCBPaWw' 'U2hvdWxkZXIgYmFn' 'Rm9ybWFsIFN1aXRz'\n",
      " 'Q3Jvc3Nib2R5IGJhZw' 'UnVsZXJzIC8gc2NhbGU' 'QnJvb20' 'SGFuZGJhZw'\n",
      " 'SGFpciBNYXNrcw' 'Vml0YW1pbiBENA' 'U2hlZXQgTWFza3M'\n",
      " 'U29hcCBhbmQgbG90aW9uIGRpc3BlbnNlcnM' 'Q29hdC8gQmxhemVy'\n",
      " 'RGlzcG9zYWJsZSBIb3QgQ3Vwcw' 'RGlzcG9zYWJsZSBEZWxpIENvbnRhaW5lcg'\n",
      " 'VHJhdmVsIEJhZw' 'QmF0aCB0b3lz' 'SGVtcCBiZWRzaGVldHM'\n",
      " 'UmVmcmlnZXJhdG9yIFdhdGVyIEZpbHRlcg' 'U3ByYXkgYm90dGxl'\n",
      " 'QmlraW5pIFRvcHMgU3dpbXN1aXQ' 'UnVncw' 'Rm91bmRhdGlvbg' 'VG95IFNoaXBz'\n",
      " 'Q3Jpc3Bz' 'U3RyZXNzIHJlbGllZiBndW1taWVz' 'WW9nYSBIYW5kIFRvd2Vscw'\n",
      " 'Q3JlYW1zIGFuZCBMb3Rpb25zIGZvciBraWRz' 'TWVjaGFuaWNhbCBQZW5jaWxz'\n",
      " 'aGVtcCBkdXZldCBjb3Zlcg' 'QmFieSBCaWI'\n",
      " 'R3Jhc3MgZmVkIFdoZXkgUHJvdGVpbiBwb3dkZXI' 'T21lZ2Egb2ls'\n",
      " 'RG9nL0NhdCBXaXBlcw' 'RGFpcnkgQmFzZWQgYmFieSBmb3JtdWxh'\n",
      " 'VGlsZSBCcnVzaC8gRmxvb3IgYnJ1c2g' 'QWxtb25kIEJ1dHRlcg'\n",
      " 'Q2FsY2l1bSBzdXBwbGVtZW50cw' 'WW9nYSBNYXQgQmFncw' 'Q3JhZnQgcmliYm9ucw'\n",
      " 'SGlnaCB3YWlzdCBCaWtpbmkgQm90dG9tIHN3aW1zdWl0' 'WW9nYSBQaWxsb3c'\n",
      " 'Y2F0IEJlZC9NYXR0cmVzc2Vz' 'SW5zZW5jZSBzdGljayBob2xkZXI'\n",
      " 'QmFieSBCdXJwIENsb3Ro' 'R2FybGFuZHM' 'Q29jb251dCBzdWdhcg'\n",
      " 'cGVyY2FsZSBkdXZldCBjb3Zlcg' 'Q2FjYW8gUG93ZGVy' 'UGx1bmdlcg'\n",
      " 'RG9nIFdpcGVz' 'TWF0ZXJuaXR5IFRvcHM' 'U2hvcnQgTWluaSBTa2lydA'\n",
      " 'V29tZW5zIGJyaWVmcw' 'UGxheWRvdWdoIC8gUGxheWRvaCAtIFBhY2sgb2YgNg'\n",
      " 'U29ja3M' 'TWF0ZXJuaXR5IFNraXJ0' 'MzAtIDM1IFBpbnRz' 'VGlzc3VlIEJveGVz'\n",
      " 'R2VsIEZhY2UgQ2xlYW5zZXI' 'Vml0YW1pbiBD'\n",
      " 'U29ydGluZyBhbmQgU3RhY2tpbmcgVG95cw' 'VHJhc2ggQmFncw'\n",
      " 'UGlsbG93L0N1c2hpb24' 'TG9vbXM' 'Q3VwIE5vb2RsZXM' 'RGlzaGNsb3Ro'\n",
      " 'RG9nIHRveXM' 'TWVucyBzbmVha2Vycw' 'd29tZW5zIE11bGVz'\n",
      " 'TWVucyBCaWtlIFNob3J0cw'\n",
      " 'U3BvcnQvIEZpdG5lc3MgUGxhbnQgYmFzZWQgUHJvdGVpbiBQb3dkZXJz' 'U3F1ZWdlZQ'\n",
      " 'RGVudGFsIEZsb3Nz' 'RGlzaCBjbG90aA' 'UG90IHNjcnVicw' 'TWFjcmFtZQ'\n",
      " 'RGVvZG9yYW50IFN0aWNr' 'TGFwdG9wIFNsZWV2ZQ' 'TW91dGggd2FzaA' 'QmxvdXNl'\n",
      " 'TXVsdGl2aXRhbWlucyBmb3Igd29tZW4' 'U2hhcnBlbmVycw'\n",
      " 'UGFjaWZpZXJzIGZvciBiYWJ5' 'RXllIENyZWFt' 'TWF0ZXJuaXR5IFBhcnR5IERyZXNz'\n",
      " 'VG9pbGV0IGNsZWFuZXIgdGFibGV0' 'RGlzcG9zYWJsZSBDb2xkIEN1cHM'\n",
      " 'Rml4ZWQgU2hvd2VyaGVhZHM' 'MTAgQ3Vw' 'U2tldGNoIGJvb2tz'\n",
      " 'UGxheWRvdWdoIC8gUGxheWRvaCAtIFBhY2sgb2YgMw' 'VGlzc3VlIFJvbGxz'\n",
      " 'RGlzcG9zYWJsZSBQbGF0ZXM' 'bGluZW4gZHV2ZXQgY292ZXI'\n",
      " 'RG9nL2NhdCBFYXIgY2xlYW5lcnM' 'ZG9nIEJlZC9NYXR0cmVzc2Vz'\n",
      " 'TGV0dGVyIFRveXM' 'VG90ZSBiYWdz' 'SG9va3MvU2hlbHZlcw' 'VG9vdGhwYXN0ZQ'\n",
      " 'T2F0bWlsaw' 'VGFuayBUb3A' 'TWF0ZXJuaXR5IE1heGkgRHJlc3M'\n",
      " 'RGlhcGVycyBmb3IgYmFieQ' 'VGFtcG9ucw' 'QmFza2V0cw'\n",
      " 'VGhyb3cgcGlsbG93IGNvdmVycw' 'Q2hld2luZyBHdW0' 'V29tZW5zIEpvZ2dlcnM'\n",
      " 'Q2F0IHRveXM' 'UGxheSBEb3VnaCBLaXQvUHJvamVjdA' 'TWFzY2FyYQ'\n",
      " 'U2hhcGVzIFRveXM' 'RGVjb3IgUGlsbG93IGNvdmVycw' 'Qm9keSBPaWw'\n",
      " 'V29tZW5zIFdpZGUgTGVnLyBGbGFyZSBQYW50cw' 'RG9nL0NhdCBDQkQ'\n",
      " 'V2hpdGUgSmFzbWluZSBSaWNl' 'UGFwZXIgdG93ZWxz' 'd29tZW5zIFdhbGxldA'\n",
      " 'MjAgUGludHM' 'TGlwIEdsb3Nz' 'UHVmZmVkIFNuYWNrcw' 'Q3V0dGluZyBCb2FyZHM'\n",
      " 'VHJheXM' 'UGlsbG93' 'TmFwa2lucw' 'MjAgQ3Vw' 'TGVnbyBibG9ja3M' 'T2F0cw'\n",
      " 'VG9w' 'RXllIGJyb3cgbWFrZSB1cCBnZWw' 'U2hhbXBvbw'\n",
      " 'TG90aW9uIGRpc3BlbnNlcnM' 'TWVucyBCcmllZnM' 'RG9sbHM'\n",
      " 'TWVucyBTaG9ydCBzbGVldmUgc2hpcnQ' 'Qm90dGxlIGJydXNo'\n",
      " 'SW5jZW5zZSBzdGlja3M' 'UGxhbnQgYmFzZWQgcHJvdGVpbiBEcmlua3M'\n",
      " 'RG9sbCBGYW1pbHk' 'SGFuZCBTYW5pdGl6ZXJz'\n",
      " 'V29tZW5zIExvbmcgc2xlZXZlIHNoaXJ0' 'ZGlzaCB0b3dlbA' 'V29tZW5zIFZlc3Q'\n",
      " 'QnJvbnplcg' 'RGlzaCB3YXNoIGxpcXVpZCBzb2Fw' 'SW50aW1hdGUgV2lwZXM'\n",
      " 'UG9ydGFibGUgRGVzaw' 'RG9nIGhhcm5lc3Nlcw'\n",
      " 'VHdvIEhhbmRsZSBTaW5rIEZhdWNldA' 'QmFieSBDcmlicw' 'V2FsbnV0cw'\n",
      " 'RmFjZSBNaXN0' 'Q290dG9uIFBhZHM' 'UmVzaXN0YW5jZSBCYW5kcw' 'UGV0IENCRA'\n",
      " 'TmlnaHQgd2VhciBmb3IgYmFieQ' 'U3Rldmlh' 'U3R1ZmZlZCBKdW5nbGUgQW5pbWFscw'\n",
      " 'QnJlYXN0IFB1bXBz' 'SGlwc3RlciB1bmRlcndlYXI'\n",
      " 'U3RyaXBlIFBpbGxvdyBjb3ZlcnM' 'eW9nYSBib2xzdGVycw' 'V29tZW5z'\n",
      " 'QnJvdyBEZWZpbmVy' 'UGxhbnRlcnMvVmFzZXM' 'U25hY2sgYmFncw' 'UGVucw'\n",
      " 'ZGlzaCB3YXNoIHBvZHMgc29hcA' 'TmF0dXJhbCBQaWdtZW50cyBQYWludHM'\n",
      " 'YWxsIHB1cnBvc2UgVGFibGV0IGNsZWFuZXI' 'Q2xlYW5pbmcgdG93ZWw' 'VGFwZQ'\n",
      " 'S25pdHRpbmcgbmVlZGxlcw' 'U2tpcnQ' 'VG95IFRyYWlucw'\n",
      " 'Q3JlYW1zIGFuZCBMb3Rpb25zIGZvciBiYWJ5' 'VHJ1bmtzLyBTd2ltIHNob3J0cw'\n",
      " 'UGFya2Fz' 'Vml0YW1pbiBCMTI' 'UGFudHMvU2hvcnRzIGZvciBiYWJ5'\n",
      " 'RGlzcG9zYWJsZSBCb3dscw' 'QmlraW5pIEN1dCBVbmRlcndlYXI'\n",
      " 'Q2FzdCBJcm9uIER1bWJiZWxscw' 'bWVucyBTaGF2aW5nIEtpdA'\n",
      " 'RGlzaCB3YXNoIHRhYmxldHMgc29hcA' 'bWVucyBCZWFyZCBTaGF2aW5nIEtpdA'\n",
      " 'bWVucyBCb290cw' 'TGF1bmRyeSBsaXF1aWQ'\n",
      " 'TGFjdG9zZSBJbnRvbGVyYW50IGJhYnkgZm9ybXVsYQ' 'TGlnaHQgUm9hc3Q'\n",
      " 'RHJ5IERvZyBGb29k' 'R2FyYmFnZS8gVHJhc2ggQmFncw'\n",
      " 'QmFraW5nIEN1cHMgLyBCYWtpbmcgRGlzaA' 'RW5lcmd5IERyaW5rcw'\n",
      " 'UGV0IGRvZy9jYXQgSW1tdW5pdHkgc3VwcGxlbWVudHM' 'Tm90ZWJvb2s'\n",
      " 'VGhyb3cgUGlsbG93' 'UGV0IFBPT1AgQkFHUw' 'Q3JvY2hldCBob29rcw'\n",
      " 'c2F0ZWVuIGJlZHNoZWV0cw' 'TGF1bmRyeSB0YWJsZXRz' 'MzAgQ3Vw' 'TGFtcHM'\n",
      " 'R3JvdW5kIGNoaWEgc2VlZHM' 'RG9nL0NhdCBDb25kaXRpb25lcg' 'VG95IENhcnM'\n",
      " 'ZGVvZG9yYW50IFN0aWNr' 'U3RyYXcgY2xlYW5pbmcgYnJ1c2g'\n",
      " 'V29tZW5zIFNob3J0IHNsZWV2ZSBzaGlydA' 'RXJhc2Vycw' 'RnJhbWVz'\n",
      " 'TWVucyBKb2dnZXJz' 'VHNoaXJ0cyBmb3IgYmFieQ' 'T3JnYW5pemVycw'\n",
      " 'U29hcCBkaXNo' 'TWluZXJhbCBHdW1taWVz' 'RG9nIERlbnRhbCBDYXJl'\n",
      " 'QmFieSBCb3R0bGVz' 'UmV1c2FibGUgY29mZmVlIGZpbHRlcg'\n",
      " 'bWVucyBPeGZvcmRzIGFuZCBMb2FmZXJz' 'SGlnaGxpZ2h0ZXJz'\n",
      " 'UGxhbnQgYmFzZWQgUHJvdGVpbiBTdXBwbGVtZW50cw' 'U3RhcGxlcnM'\n",
      " 'TWlsayBDbGVhbnNlcg' 'Q3VydGFpbnM' 'bGluZW4gYmVkc2hlZXRz' 'QmxlbmRlcg'\n",
      " 'RG9nIERlbnRhbCBTdGlja3M' 'bWVucyBTYW5kYWxzL1NsaXAgb25z'\n",
      " 'RGlzaCB3YXNoIHBvd2RlciBzb2Fw' 'R2x1ZQ' 'TWVucyBTbGltIEZpdCBqZWFucw'\n",
      " 'TGFwdG9wcw' 'Q2F0IGxlYXNoZXM' 'VG9pbGV0IEJydXNo' 'TmVjayBDcmVhbQ'\n",
      " 'VHdvIEhhbmRsZSBGYXVjZXQ' 'VHJhZGl0aW9uYWwgUGVuY2lscw'\n",
      " 'Qm9tYmVyIEphY2tldA' 'TGlwIE1hc2tz' 'TWF0ZXJuaXR5IE5pZ2h0Z293bg'\n",
      " 'RmFjZS9Cb2R5IHBhaW50cw' 'QWNyeWxpYyBwYWludA' 'VGFwZXM'\n",
      " 'V2V0IERvZyBGb29k' 'UmVzaW4ga2l0cw' 'R2lmdCB3cmFwcGluZyBwYXBlcg'\n",
      " 'VmVnYW4gY29va2llcw' 'TWF0ZXJuaXR5IEp1bXBzdWl0'\n",
      " 'VG9pbGV0IGNsZWFuZXIgbGlxdWlk' 'VG9hc3RlcnM' 'QWlyIFB1cmlmaWVycw'\n",
      " 'RmFjZSBTY3J1YnM' 'V2FsbCBoYW5naW5ncw' 'U2tvcnQ' 'UG90IGJydXNo'\n",
      " 'TG9uZyBTa2lydA' 'Vml0YW1pbiBCMTM' 'OCBDdXA' 'QWxtb25kIE1pbGs'\n",
      " 'V2hpdGUgQmFzbWF0aSBSaWNl' 'U2hhdmluZyBDcmVhbQ' 'aVBob25lIENhc2U'\n",
      " 'UGV0IERvZyBTdXBwbGVtZW50cw' 'U3V2aW4gcGlsbG93IGNvdmVy' 'QmlraW5pIFRvcHM'\n",
      " 'c2F0ZWVuIHBpbGxvdyBjYXNl' 'Vml0YW1pbiBCMTQ' 'TGFwdG9wIFN0YW5k'\n",
      " 'RXllIEJyb3cgUGVuY2ls' 'U21hcnQgV2F0Y2ggU2NyZWVuIFByb3RlY3Rvcg'\n",
      " 'RG9nIENvbmRpdGlvbmVy' 'QmFieSBTb2FwIGJhcg' 'WWFybg'\n",
      " 'RG9nIEVhciBjbGVhbmVycw' 'NiBDdXA' 'ZGlzaCBicnVzaA'\n",
      " 'U29hcCBkaXNwZW5zZXJz' 'NSBHYWxsb24' 'UHVwcHkgU2hhbXBvbw']\n"
     ]
    }
   ],
   "source": [
    "print(level_1_arr)"
   ]
  },
  {
   "cell_type": "code",
   "execution_count": 55,
   "id": "392f50ee",
   "metadata": {},
   "outputs": [
    {
     "name": "stdout",
     "output_type": "stream",
     "text": [
      "Number of unique level is:\n",
      " 596\n"
     ]
    }
   ],
   "source": [
    "print(\"Number of unique level is:\\n\",len(level_1_arr))"
   ]
  },
  {
   "cell_type": "code",
   "execution_count": 28,
   "id": "4857bdbe",
   "metadata": {},
   "outputs": [],
   "source": [
    "uuid_ser = df1.iloc[:, 0]"
   ]
  },
  {
   "cell_type": "code",
   "execution_count": 29,
   "id": "ad1c0913",
   "metadata": {},
   "outputs": [
    {
     "data": {
      "text/plain": [
       "0           638744a4-b0ae-4166-8cb6-5c063c862036\n",
       "1           ab313969-02cc-48b2-9daf-0054efb70b92\n",
       "2           acbd66ff-79f8-467a-91f9-108a45af5626\n",
       "3           963915d6-b2e3-4098-b242-9410593cf205\n",
       "4           b5b68f3c-b1e0-40e5-8ee5-e2f7236c1daf\n",
       "                            ...                 \n",
       "13729995    2a13338e-9268-4f7b-9e7c-b8c41c72971b\n",
       "13729996    fcaedae7-dc20-4da1-b4ae-77368c973088\n",
       "13729997    679f073a-862a-4e43-b5ce-41e45afd3bfa\n",
       "13729998    25677eee-c26b-4abf-bd10-ca77a800ba26\n",
       "13729999    0f4550de-1f33-48b5-a5ef-fc5e39df208e\n",
       "Name: uuid, Length: 13730000, dtype: object"
      ]
     },
     "execution_count": 29,
     "metadata": {},
     "output_type": "execute_result"
    }
   ],
   "source": [
    "uuid_ser"
   ]
  },
  {
   "cell_type": "code",
   "execution_count": 33,
   "id": "7a60d385",
   "metadata": {},
   "outputs": [
    {
     "data": {
      "text/plain": [
       "638744a4-b0ae-4166-8cb6-5c063c862036    10000\n",
       "32a6ce63-6ecd-46c5-84d9-4487bb13dd8b    10000\n",
       "b524d72b-11a5-417b-be83-b33a83c81f4e    10000\n",
       "2c7e75c2-c239-4461-a231-810c1dbcb51e    10000\n",
       "08b5646e-16dd-4a6e-b0d8-0394a0f10d82    10000\n",
       "                                        ...  \n",
       "09f79df9-4500-48f6-9941-8c05c7c241ae    10000\n",
       "6202649f-4bf3-41f0-ab94-ae26f68e7e89    10000\n",
       "61e4f1c3-7c2d-45cf-b9e4-2ef9ad82c96f    10000\n",
       "06b44dd1-25f9-463b-9ae4-b0f5df9646bc    10000\n",
       "21e8ead0-6f8a-40aa-9ad9-469abd8dad3d    10000\n",
       "Name: uuid, Length: 1373, dtype: int64"
      ]
     },
     "execution_count": 33,
     "metadata": {},
     "output_type": "execute_result"
    }
   ],
   "source": [
    "uuid_ser.value_counts(sort=True)"
   ]
  },
  {
   "cell_type": "markdown",
   "id": "e859b2de",
   "metadata": {},
   "source": [
    "THERE ARE 10000 UNIT OF 1373 PRODUCTS hence total 13730000 PRODUCTS."
   ]
  },
  {
   "cell_type": "code",
   "execution_count": 34,
   "id": "63a6b12f",
   "metadata": {},
   "outputs": [],
   "source": [
    "price_string_ser = df1.iloc[:, 1]"
   ]
  },
  {
   "cell_type": "code",
   "execution_count": 35,
   "id": "d111e7af",
   "metadata": {},
   "outputs": [
    {
     "data": {
      "text/plain": [
       "0                0\n",
       "1                0\n",
       "2           $19.95\n",
       "3           $92.00\n",
       "4            11.50\n",
       "             ...  \n",
       "13729995         0\n",
       "13729996    $69.99\n",
       "13729997         0\n",
       "13729998         0\n",
       "13729999    $55.00\n",
       "Name: price_string, Length: 13730000, dtype: object"
      ]
     },
     "execution_count": 35,
     "metadata": {},
     "output_type": "execute_result"
    }
   ],
   "source": [
    "price_string_ser"
   ]
  },
  {
   "cell_type": "code",
   "execution_count": 36,
   "id": "85913018",
   "metadata": {},
   "outputs": [
    {
     "data": {
      "text/plain": [
       "0          8220000\n",
       "$0.00       240000\n",
       "$89         120000\n",
       "$9.99       100000\n",
       "$3.99        90000\n",
       "            ...   \n",
       "$18          10000\n",
       "$7.49        10000\n",
       "$6.25        10000\n",
       "$299         10000\n",
       "$268.00      10000\n",
       "Name: price_string, Length: 249, dtype: int64"
      ]
     },
     "execution_count": 36,
     "metadata": {},
     "output_type": "execute_result"
    }
   ],
   "source": [
    "price_string_ser.value_counts(sort=True)"
   ]
  },
  {
   "cell_type": "markdown",
   "id": "1c9eff79",
   "metadata": {},
   "source": [
    "WE CAN SEE PRODUCT WITHOUT PRICES ARE 8220000 AND REST 5510000 ARE WITH PRICE."
   ]
  },
  {
   "cell_type": "code",
   "execution_count": 37,
   "id": "bdb992ea",
   "metadata": {},
   "outputs": [],
   "source": [
    "product_type_ser = df1.iloc[:, 3]"
   ]
  },
  {
   "cell_type": "code",
   "execution_count": 38,
   "id": "488d7817",
   "metadata": {},
   "outputs": [
    {
     "data": {
      "text/plain": [
       "0                                    TGFwdG9wIENvdmVycy9CYWdz\n",
       "1                                 QmFraW5nIEN1cHMgYW5kIE1hdHM\n",
       "2           R3VtbWllcyB2aXRhbWlucyBhbmQgbWluZXJhbHMgZm9yIG...\n",
       "3                                                    U2VydW1z\n",
       "4                             RWF0aW5nIFV0ZW5zaWxzL0N1dGxlcnk\n",
       "                                  ...                        \n",
       "13729995                                           RHJlc3Nlcw\n",
       "13729996                                       Um9vbSBkZWNvcg\n",
       "13729997                                          UGV0IEZvb2Q\n",
       "13729998                                              U2F1Y2U\n",
       "13729999                               TG9hZmVycy8gT3hmb3Jkcw\n",
       "Name: product_type, Length: 13730000, dtype: object"
      ]
     },
     "execution_count": 38,
     "metadata": {},
     "output_type": "execute_result"
    }
   ],
   "source": [
    "product_type_ser"
   ]
  },
  {
   "cell_type": "code",
   "execution_count": 39,
   "id": "a6f3f049",
   "metadata": {},
   "outputs": [
    {
     "data": {
      "text/plain": [
       "U2NydWJzIGFuZCBjbGVhbmluZyBjbG90aHM           200000\n",
       "V29tZW5zIHN3aW13ZWFy                          190000\n",
       "V29tZW5zIHdvcmt3ZWFyLyBvZmZpY2Ugd2Vhcg        170000\n",
       "UGxhbnQgYmFzZWQgUHJvdGVpbiBTdXBwbGVtZW50cw    150000\n",
       "d29tZW5zIE91dGVyd2Vhcg                        150000\n",
       "                                               ...  \n",
       "SW50aW1hdGUgV2lwZXM                            10000\n",
       "QmFieSBDcmVhbXMgYW5kIExvdGlvbnM                10000\n",
       "bWVucyBTaGF2aW5nIEtpdA                         10000\n",
       "bWVucyBCZWFyZCBDYXJlIEtpdA                     10000\n",
       "QmFieSBTb2Fw                                   10000\n",
       "Name: product_type, Length: 322, dtype: int64"
      ]
     },
     "execution_count": 39,
     "metadata": {},
     "output_type": "execute_result"
    }
   ],
   "source": [
    "product_type_ser.value_counts(sort=True)"
   ]
  },
  {
   "cell_type": "markdown",
   "id": "81988bf2",
   "metadata": {},
   "source": [
    "PRODUCT TYPE WISE PRODUCT COUNT"
   ]
  },
  {
   "cell_type": "code",
   "execution_count": 58,
   "id": "8503ae36",
   "metadata": {},
   "outputs": [],
   "source": [
    "level_1_ser = df1.iloc[:, 4]"
   ]
  },
  {
   "cell_type": "code",
   "execution_count": 41,
   "id": "d91667c2",
   "metadata": {},
   "outputs": [
    {
     "data": {
      "text/plain": [
       "0                               TGFwdG9wIENhc2U\n",
       "1            QmFraW5nIE1hdHMgLyBCYWtpbmcgZGlzaA\n",
       "2                        SW1tdW5pdHkgZ3VtbWllcw\n",
       "3                                RmFjZSBTZXJ1bQ\n",
       "4                                Q2hvcHN0aWNrcw\n",
       "                           ...                 \n",
       "13729995                         TWF4aSBkcmVzcw\n",
       "13729996                    UGxhbnRlcnMvVmFzZXM\n",
       "13729997                       RHJ5IERvZyBGb29k\n",
       "13729998                           QkJRIFNhdWNl\n",
       "13729999    d29tZW5zIE94Zm9yZHMgYW5kIExvYWZlcnM\n",
       "Name: level_1, Length: 13730000, dtype: object"
      ]
     },
     "execution_count": 41,
     "metadata": {},
     "output_type": "execute_result"
    }
   ],
   "source": [
    "level_1_ser"
   ]
  },
  {
   "cell_type": "code",
   "execution_count": 42,
   "id": "e50faba0",
   "metadata": {},
   "outputs": [
    {
     "data": {
      "text/plain": [
       "U3dlYXRzaGlydA                  90000\n",
       "U29ja3M                         70000\n",
       "Q2xlYW5pbmcgY2xvdGg             70000\n",
       "U3Bvb24sIEtuaWZlIGFuZCBGb3Jr    70000\n",
       "TG9uZyBzbGVldmUgdGVl            60000\n",
       "                                ...  \n",
       "VHJhc2ggQmFncw                  10000\n",
       "UGlsbG93L0N1c2hpb24             10000\n",
       "TG9vbXM                         10000\n",
       "TWVucyBzbmVha2Vycw              10000\n",
       "UHVwcHkgU2hhbXBvbw              10000\n",
       "Name: level_1, Length: 596, dtype: int64"
      ]
     },
     "execution_count": 42,
     "metadata": {},
     "output_type": "execute_result"
    }
   ],
   "source": [
    "level_1_ser.value_counts(sort=True)"
   ]
  },
  {
   "cell_type": "markdown",
   "id": "3e673b6f",
   "metadata": {},
   "source": [
    "LEVEL_1 WISE PRODUCT COUNT"
   ]
  },
  {
   "cell_type": "code",
   "execution_count": 43,
   "id": "557e7422",
   "metadata": {},
   "outputs": [],
   "source": [
    "category_ser = df1.iloc[:, 5]"
   ]
  },
  {
   "cell_type": "code",
   "execution_count": 44,
   "id": "a72acce1",
   "metadata": {},
   "outputs": [
    {
     "data": {
      "text/plain": [
       "0                            RWxlY3Ryb25pY3M\n",
       "1                 a2l0Y2hpbmcgYW5kIGRpbmluZw\n",
       "2                                   SGVhbHRo\n",
       "3           YmVhdXR5IGFuZCBwZXJzb25hbCBjYXJl\n",
       "4                 a2l0Y2hpbmcgYW5kIGRpbmluZw\n",
       "                          ...               \n",
       "13729995    Q2xvdGhpbmcgYW5kIEFjY2Vzc29yaWVz\n",
       "13729996      SG91c2Vob2xkIGFuZCBDbGVhbmluZw\n",
       "13729997                    cGV0IHN1cHBsaWVz\n",
       "13729998                        Z3JvY2VyaWVz\n",
       "13729999    Q2xvdGhpbmcgYW5kIEFjY2Vzc29yaWVz\n",
       "Name: category, Length: 13730000, dtype: object"
      ]
     },
     "execution_count": 44,
     "metadata": {},
     "output_type": "execute_result"
    }
   ],
   "source": [
    "category_ser"
   ]
  },
  {
   "cell_type": "code",
   "execution_count": 45,
   "id": "24e0442d",
   "metadata": {},
   "outputs": [
    {
     "data": {
      "text/plain": [
       "Q2xvdGhpbmcgYW5kIEFjY2Vzc29yaWVz       3910000\n",
       "Z3JvY2VyaWVz                           1610000\n",
       "SG91c2Vob2xkIGFuZCBDbGVhbmluZw         1570000\n",
       "YmVhdXR5IGFuZCBwZXJzb25hbCBjYXJl       1470000\n",
       "SGVhbHRo                                990000\n",
       "VG95cyBhbmQgR2FtZXM                     790000\n",
       "cGV0IHN1cHBsaWVz                        740000\n",
       "QmFieWNhcmU                             660000\n",
       "a2l0Y2hpbmcgYW5kIGRpbmluZw              590000\n",
       "VG9vbHMgYW5kIGhvbWUgaW1wcm92ZW1lbnQ     520000\n",
       "RWxlY3Ryb25pY3M                         320000\n",
       "QXJ0IHN1cHBsaWVz                        320000\n",
       "b2ZmaWNlIHByb2R1Y3Rz                    230000\n",
       "0                                        10000\n",
       "Name: category, dtype: int64"
      ]
     },
     "execution_count": 45,
     "metadata": {},
     "output_type": "execute_result"
    }
   ],
   "source": [
    "category_ser.value_counts(sort=True)"
   ]
  },
  {
   "cell_type": "markdown",
   "id": "90c3bf7c",
   "metadata": {},
   "source": [
    "CATEGORY WISE PRODUCT COUNT"
   ]
  },
  {
   "cell_type": "code",
   "execution_count": null,
   "id": "d6f42ca5",
   "metadata": {},
   "outputs": [],
   "source": []
  }
 ],
 "metadata": {
  "kernelspec": {
   "display_name": "Python 3 (ipykernel)",
   "language": "python",
   "name": "python3"
  },
  "language_info": {
   "codemirror_mode": {
    "name": "ipython",
    "version": 3
   },
   "file_extension": ".py",
   "mimetype": "text/x-python",
   "name": "python",
   "nbconvert_exporter": "python",
   "pygments_lexer": "ipython3",
   "version": "3.9.6"
  }
 },
 "nbformat": 4,
 "nbformat_minor": 5
}
